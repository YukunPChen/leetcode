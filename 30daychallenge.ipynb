{
 "cells": [
  {
   "cell_type": "code",
   "execution_count": 55,
   "metadata": {},
   "outputs": [
    {
     "name": "stdout",
     "output_type": "stream",
     "text": [
      "[2,2,1]\n",
      "1\n"
     ]
    }
   ],
   "source": [
    "#playground for leet code\n"
   ]
  },
  {
   "cell_type": "code",
   "execution_count": null,
   "metadata": {},
   "outputs": [],
   "source": []
  },
  {
   "cell_type": "code",
   "execution_count": null,
   "metadata": {},
   "outputs": [],
   "source": [
    "#1>. given a non-empty array of integers, every element appears twice except for one, find the single one"
   ]
  },
  {
   "cell_type": "code",
   "execution_count": 23,
   "metadata": {},
   "outputs": [
    {
     "name": "stdout",
     "output_type": "stream",
     "text": [
      "[2,1,1]\n",
      "<class 'list'>\n",
      "[\n"
     ]
    }
   ],
   "source": [
    "\n",
    "class Solution:\n",
    "    def __init__(self,list1):\n",
    "        self.list=[]\n",
    "        for i in range(len(list1)):\n",
    "            if list1[i] in ['[',']']:\n",
    "                1+1\n",
    "            else:\n",
    "                self.list.append(list1[i])\n",
    "        \n",
    "    def singleNumber(self):\n",
    "        self.queue=[]\n",
    "        for i in range(len(self.list)):\n",
    "\n",
    "            if self.list[i] not in self.queue:\n",
    "                self.queue.append(self.list[i])\n",
    "            else:                    \n",
    "                self.queue.remove(self.list[i])\n",
    "        print(self.queue[0])\n",
    "        \n",
    "\n",
    "\n",
    "ss=Solution(input())\n",
    "ss.singleNumber()"
   ]
  },
  {
   "cell_type": "code",
   "execution_count": 130,
   "metadata": {},
   "outputs": [],
   "source": [
    "#2>. write a algorithm to determine if a number is happy \n"
   ]
  },
  {
   "cell_type": "code",
   "execution_count": 9,
   "metadata": {},
   "outputs": [],
   "source": [
    "class Solution:\n",
    "    def isHappy(self,n:int) -> bool:\n",
    "        n=Solution.multiadd(n)\n",
    "        pool=[]\n",
    "        while (n!=1):\n",
    "            n= Solution.multiadd(n)\n",
    "            if n in pool:\n",
    "                break\n",
    "            else:\n",
    "                pool.append(n)\n",
    "            #print(\"after calculation is : \",n)\n",
    "            \n",
    "        return(n==1)\n",
    "    def multiadd(n):\n",
    "        #print(n)\n",
    "        mi=0\n",
    "        while n/10 >0:  \n",
    "            sin = n%10\n",
    "            #print(sin)\n",
    "            mis = sin*sin\n",
    "            mi += mis\n",
    "            n = n//10\n",
    "            #print(n,\"left, and the sum now is\",mi)\n",
    "        return mi"
   ]
  },
  {
   "cell_type": "code",
   "execution_count": 13,
   "metadata": {},
   "outputs": [
    {
     "data": {
      "text/plain": [
       "True"
      ]
     },
     "execution_count": 13,
     "metadata": {},
     "output_type": "execute_result"
    }
   ],
   "source": [
    "x =  Solution()\n",
    "x.isHappy(100)"
   ]
  },
  {
   "cell_type": "markdown",
   "metadata": {},
   "source": [
    "May 3rd\n",
    "Ransom Note\n",
    "\n",
    "Given an arbitrary ransom note string and another string containing letters from all the magazines, write a function that will return true if the ransom note can be constructed from the magazines ; otherwise, it will return false.\n",
    "\n",
    "Each letter in the magazine string can only be used once in your ransom note.\n",
    "\n",
    " \n",
    "\n",
    "Example 1:\n",
    "\n",
    "Input: ransomNote = \"a\", magazine = \"b\"\n",
    "Output: false\n",
    "\n",
    "Example 2:\n",
    "\n",
    "Input: ransomNote = \"aa\", magazine = \"ab\"\n",
    "Output: false\n",
    "\n",
    "Example 3:\n",
    "\n",
    "Input: ransomNote = \"aa\", magazine = \"aab\"\n",
    "Output: true\n",
    "\n",
    " \n",
    "\n",
    "Constraints:\n",
    "\n",
    "    You may assume that both strings contain only lowercase letters.\n",
    "\n"
   ]
  },
  {
   "cell_type": "code",
   "execution_count": 326,
   "metadata": {},
   "outputs": [
    {
     "ename": "TypeError",
     "evalue": "'<=' not supported between instances of 'Counter' and 'Counter'",
     "output_type": "error",
     "traceback": [
      "\u001b[0;31m---------------------------------------------------------------------------\u001b[0m",
      "\u001b[0;31mTypeError\u001b[0m                                 Traceback (most recent call last)",
      "\u001b[0;32m<ipython-input-326-f327609134b9>\u001b[0m in \u001b[0;36m<module>\u001b[0;34m\u001b[0m\n\u001b[1;32m      5\u001b[0m     \u001b[0;32mreturn\u001b[0m \u001b[0;32mFalse\u001b[0m\u001b[0;34m\u001b[0m\u001b[0;34m\u001b[0m\u001b[0m\n\u001b[1;32m      6\u001b[0m \u001b[0;34m\u001b[0m\u001b[0m\n\u001b[0;32m----> 7\u001b[0;31m \u001b[0mcanConstruct\u001b[0m\u001b[0;34m(\u001b[0m\u001b[0;34m'baa'\u001b[0m\u001b[0;34m,\u001b[0m\u001b[0;34m'aab'\u001b[0m\u001b[0;34m)\u001b[0m\u001b[0;34m\u001b[0m\u001b[0;34m\u001b[0m\u001b[0m\n\u001b[0m",
      "\u001b[0;32m<ipython-input-326-f327609134b9>\u001b[0m in \u001b[0;36mcanConstruct\u001b[0;34m(ransomNote, magazine)\u001b[0m\n\u001b[1;32m      1\u001b[0m \u001b[0;32mfrom\u001b[0m \u001b[0mcollections\u001b[0m \u001b[0;32mimport\u001b[0m \u001b[0mCounter\u001b[0m\u001b[0;34m\u001b[0m\u001b[0;34m\u001b[0m\u001b[0m\n\u001b[1;32m      2\u001b[0m \u001b[0;32mdef\u001b[0m \u001b[0mcanConstruct\u001b[0m\u001b[0;34m(\u001b[0m\u001b[0mransomNote\u001b[0m\u001b[0;34m:\u001b[0m \u001b[0mstr\u001b[0m\u001b[0;34m,\u001b[0m \u001b[0mmagazine\u001b[0m\u001b[0;34m:\u001b[0m \u001b[0mstr\u001b[0m\u001b[0;34m)\u001b[0m\u001b[0;34m:\u001b[0m\u001b[0;34m\u001b[0m\u001b[0;34m\u001b[0m\u001b[0m\n\u001b[0;32m----> 3\u001b[0;31m     \u001b[0;32mif\u001b[0m \u001b[0mCounter\u001b[0m\u001b[0;34m(\u001b[0m\u001b[0mransomNote\u001b[0m\u001b[0;34m)\u001b[0m \u001b[0;34m<=\u001b[0m \u001b[0mCounter\u001b[0m\u001b[0;34m(\u001b[0m\u001b[0mmagazine\u001b[0m\u001b[0;34m)\u001b[0m\u001b[0;34m:\u001b[0m\u001b[0;34m\u001b[0m\u001b[0;34m\u001b[0m\u001b[0m\n\u001b[0m\u001b[1;32m      4\u001b[0m         \u001b[0;32mreturn\u001b[0m \u001b[0;32mTrue\u001b[0m\u001b[0;34m\u001b[0m\u001b[0;34m\u001b[0m\u001b[0m\n\u001b[1;32m      5\u001b[0m     \u001b[0;32mreturn\u001b[0m \u001b[0;32mFalse\u001b[0m\u001b[0;34m\u001b[0m\u001b[0;34m\u001b[0m\u001b[0m\n",
      "\u001b[0;31mTypeError\u001b[0m: '<=' not supported between instances of 'Counter' and 'Counter'"
     ]
    }
   ],
   "source": [
    "from collections import Counter\n",
    "def canConstruct(ransomNote: str, magazine: str):\n",
    "    For i in Counter(ransomNote):\n",
    "        if i \n",
    "    \n",
    "canConstruct('baa','aab')"
   ]
  },
  {
   "cell_type": "code",
   "execution_count": 331,
   "metadata": {},
   "outputs": [
    {
     "data": {
      "text/plain": [
       "dict_values([1, 2])"
      ]
     },
     "execution_count": 331,
     "metadata": {},
     "output_type": "execute_result"
    }
   ],
   "source": [
    "Counter('baa').values()"
   ]
  },
  {
   "cell_type": "markdown",
   "metadata": {},
   "source": [
    "#3>. given an inteeger array nums, find the contiguous subarray (containing at least one number)\n",
    "#which has the largest sum and return its sum \n",
    "#**********important\n",
    "Example:\n",
    "\n",
    "Input: [-2,1,-3,4,-1,2,1,-5,4],\n",
    "Output: 6\n",
    "Explanation: [4,-1,2,1] has the largest sum = 6.\n"
   ]
  },
  {
   "cell_type": "markdown",
   "metadata": {},
   "source": [
    "May 4th  Number Complement\n",
    "\n",
    "Given a positive integer num, output its complement number. The complement strategy is to flip the bits of its binary representation.\n",
    "\n",
    " \n",
    "\n",
    "Example 1:\n",
    "\n",
    "Input: num = 5\n",
    "Output: 2\n",
    "Explanation: The binary representation of 5 is 101 (no leading zero bits), and its complement is 010. So you need to output 2.\n",
    "\n",
    "Example 2:\n",
    "\n",
    "Input: num = 1\n",
    "Output: 0\n",
    "Explanation: The binary representation of 1 is 1 (no leading zero bits), and its complement is 0. So you need to output 0.\n",
    "\n",
    " \n",
    "\n",
    "Constraints:\n",
    "\n",
    "    The given integer num is guaranteed to fit within the range of a 32-bit signed integer.\n",
    "    num >= 1\n",
    "    You could assume no leading zero bit in the integer’s binary representation.\n",
    "    This question is the same as 1009: https://leetcode.com/problems/complement-of-base-10-integer/\n",
    "\n"
   ]
  },
  {
   "cell_type": "code",
   "execution_count": null,
   "metadata": {},
   "outputs": [],
   "source": [
    "class Solution:\n",
    "    def findComplement(self, num: int) -> int:\n",
    "        bina = bin(num)[2:]\n",
    "        new = ''\n",
    "        print(bina)\n",
    "        for i in range(len(bina)):\n",
    "            if int(bina[i]) == 1:\n",
    "                new+='0'\n",
    "            else:\n",
    "                new+='1'\n",
    "        new = '0b'+new\n",
    "        \n",
    "                \n",
    "        return int(new,2)"
   ]
  },
  {
   "cell_type": "markdown",
   "metadata": {},
   "source": [
    "May 5th\n",
    "  First Unique Character in a String\n",
    "\n",
    "Given a string, find the first non-repeating character in it and return it's index. If it doesn't exist, return -1.\n",
    "\n",
    "Examples:\n",
    "\n",
    "s = \"leetcode\"\n",
    "return 0.\n",
    "\n",
    "s = \"loveleetcode\",\n",
    "return 2.\n",
    "\n",
    " \n",
    "\n",
    "Note: You may assume the string contain only lowercase English letters.\n"
   ]
  },
  {
   "cell_type": "code",
   "execution_count": null,
   "metadata": {},
   "outputs": [],
   "source": [
    "class Solution:\n",
    "    def firstUniqChar(self, s: str) -> int:\n",
    "        out= -1\n",
    "        for i in range(len(s)):\n",
    "            n = s[i]            \n",
    "            if n in s[:i]:\n",
    "                pass\n",
    "            elif n in s[i+1:]:\n",
    "                pass\n",
    "            else:\n",
    "                print('found')\n",
    "                out = i\n",
    "                break\n",
    "        return out"
   ]
  },
  {
   "cell_type": "markdown",
   "metadata": {},
   "source": [
    "May 6th  Majority Element\n",
    "\n",
    "Given an array of size n, find the majority element. The majority element is the element that appears more than ⌊ n/2 ⌋ times.\n",
    "\n",
    "You may assume that the array is non-empty and the majority element always exist in the array.\n",
    "\n",
    "Example 1:\n",
    "\n",
    "Input: [3,2,3]\n",
    "Output: 3\n",
    "\n",
    "Example 2:\n",
    "\n",
    "Input: [2,2,1,1,1,2,2]\n",
    "Output: 2\n",
    "\n"
   ]
  },
  {
   "cell_type": "code",
   "execution_count": null,
   "metadata": {},
   "outputs": [],
   "source": [
    "class Solution:\n",
    "    def majorityElement(self, nums: List[int]) -> int:\n",
    "        nums.sort()\n",
    "        return nums[len(nums)//2]\n",
    "    "
   ]
  },
  {
   "cell_type": "markdown",
   "metadata": {},
   "source": [
    "May 7th  Cousins in Binary Tree\n",
    "\n",
    "In a binary tree, the root node is at depth 0, and children of each depth k node are at depth k+1.\n",
    "\n",
    "Two nodes of a binary tree are cousins if they have the same depth, but have different parents.\n",
    "\n",
    "We are given the root of a binary tree with unique values, and the values x and y of two different nodes in the tree.\n",
    "\n",
    "Return true if and only if the nodes corresponding to the values x and y are cousins.\n",
    "\n",
    " \n",
    "\n",
    "Example 1:\n",
    "\n",
    "Input: root = [1,2,3,4], x = 4, y = 3\n",
    "Output: false\n",
    "\n",
    "Example 2:\n",
    "\n",
    "Input: root = [1,2,3,null,4,null,5], x = 5, y = 4\n",
    "Output: true\n",
    "\n",
    "Example 3:\n",
    "\n",
    "Input: root = [1,2,3,null,4], x = 2, y = 3\n",
    "Output: false\n",
    "\n",
    " \n",
    "\n",
    "Constraints:\n",
    "\n",
    "    The number of nodes in the tree will be between 2 and 100.\n",
    "    Each node has a unique integer value from 1 to 100.\n",
    "\n"
   ]
  },
  {
   "cell_type": "code",
   "execution_count": null,
   "metadata": {},
   "outputs": [],
   "source": [
    "# Definition for a binary tree node.\n",
    "# class TreeNode:\n",
    "#     def __init__(self, val=0, left=None, right=None):\n",
    "#         self.val = val\n",
    "#         self.left = left\n",
    "#         self.right = right\n",
    "class Solution:\n",
    "    def isCousins(self, root: TreeNode, x: int, y: int) -> bool:\n",
    "        self.dictionary ={}\n",
    "        value =1\n",
    "        depth =0\n",
    "        \n",
    "        if root != None:\n",
    "            value = root.val\n",
    "            depth += 1\n",
    "            self.dictionary[value] = (depth,0)\n",
    "            self.checkchild(root,depth)\n",
    "        \n",
    "        if (self.dictionary[x][0]==self.dictionary[y][0]):\n",
    "            if (self.dictionary[x][1]!=self.dictionary[y][1]):\n",
    "                return True \n",
    "            else:\n",
    "                return False\n",
    "        else:\n",
    "            return False\n",
    "\n",
    "            \n",
    "    def checkchild(self,root,depth):\n",
    "        leftdepth = depth\n",
    "        rightdepth = depth\n",
    "        if root.left != None:\n",
    "            leftvalue = root.left.val\n",
    "            leftdepth += 1\n",
    "            parent = root.val\n",
    "            self.dictionary[leftvalue] =  (leftdepth,parent)\n",
    "            self.checkchild(root.left,leftdepth)\n",
    "        else:\n",
    "            pass\n",
    "        if root.right != None:\n",
    "            rightvalue = root.right.val\n",
    "            rightdepth += 1\n",
    "            parent = root.val\n",
    "            self.dictionary [rightvalue] = (rightdepth,parent)\n",
    "            self.checkchild(root.right,rightdepth)\n",
    "        else:\n",
    "            pass\n",
    "        \n",
    "    "
   ]
  },
  {
   "cell_type": "markdown",
   "metadata": {},
   "source": [
    "May 8th\n",
    "  Check If It Is a Straight Line\n",
    "\n",
    "You are given an array coordinates, coordinates[i] = [x, y], where [x, y] represents the coordinate of a point. Check if these points make a straight line in the XY plane.\n",
    "\n",
    " \n",
    "\n",
    " \n",
    "\n",
    "Example 1:\n",
    "\n",
    "Input: coordinates = [[1,2],[2,3],[3,4],[4,5],[5,6],[6,7]]\n",
    "Output: true\n",
    "\n",
    "Example 2:\n",
    "\n",
    "Input: coordinates = [[1,1],[2,2],[3,4],[4,5],[5,6],[7,7]]\n",
    "Output: false\n",
    "\n",
    " \n",
    "\n",
    "Constraints:\n",
    "\n",
    "    2 <= coordinates.length <= 1000\n",
    "    coordinates[i].length == 2\n",
    "    -10^4 <= coordinates[i][0], coordinates[i][1] <= 10^4\n",
    "    coordinates contains no duplicate point.\n",
    "\n"
   ]
  },
  {
   "cell_type": "code",
   "execution_count": null,
   "metadata": {},
   "outputs": [],
   "source": [
    "class Solution:\n",
    "    def checkStraightLine(self, coordinates: List[List[int]]) -> bool:\n",
    "        \n",
    "        slope =self.liner(coordinates[0],coordinates[1])\n",
    "        newslope = slope\n",
    "        print(slope)\n",
    "        \n",
    "        \n",
    "        for i in range(len(coordinates)-1):\n",
    "            newslope = self.liner(coordinates[i],coordinates[i+1])\n",
    "            if newslope != slope:\n",
    "                return False\n",
    "        return True\n",
    "            \n",
    "        \n",
    "    def liner(self,point1,point2):\n",
    "        (x1,y1,x2,y2) = point1[0],point1[1],point2[0],point2[1]\n",
    "        if x2-x1 != 0: \n",
    "            slope = (y2-y1)/(x2-x1)\n",
    "        else:\n",
    "            slope = 99\n",
    "        return slope\n",
    "\n",
    "                "
   ]
  },
  {
   "cell_type": "markdown",
   "metadata": {},
   "source": [
    "May 9th  Valid Perfect Square\n",
    "\n",
    "Given a positive integer num, write a function which returns True if num is a perfect square else False.\n",
    "\n",
    "Follow up: Do not use any built-in library function such as sqrt.\n",
    "\n",
    " \n",
    "\n",
    "Example 1:\n",
    "\n",
    "Input: num = 16\n",
    "Output: true\n",
    "\n",
    "Example 2:\n",
    "\n",
    "Input: num = 14\n",
    "Output: false\n",
    "\n",
    " \n",
    "\n",
    "Constraints:\n",
    "\n",
    "    1 <= num <= 2^31 - 1\n",
    "\n"
   ]
  },
  {
   "cell_type": "code",
   "execution_count": null,
   "metadata": {},
   "outputs": [],
   "source": [
    "class Solution:\n",
    "    def isPerfectSquare(self, num: int) -> bool:\n",
    "        i = 1\n",
    "        \n",
    "        while (i*i)  <= num:\n",
    "            if (i*i) == num:\n",
    "                return True\n",
    "            i +=1\n",
    "        \n",
    "        return False"
   ]
  },
  {
   "cell_type": "markdown",
   "metadata": {},
   "source": [
    "May 10th  Find the Town Judge\n",
    "\n",
    "In a town, there are N people labelled from 1 to N.  There is a rumor that one of these people is secretly the town judge.\n",
    "\n",
    "If the town judge exists, then:\n",
    "\n",
    "    The town judge trusts nobody.\n",
    "    Everybody (except for the town judge) trusts the town judge.\n",
    "    There is exactly one person that satisfies properties 1 and 2.\n",
    "\n",
    "You are given trust, an array of pairs trust[i] = [a, b] representing that the person labelled a trusts the person labelled b.\n",
    "\n",
    "If the town judge exists and can be identified, return the label of the town judge.  Otherwise, return -1.\n",
    "\n",
    " \n",
    "\n",
    "Example 1:\n",
    "\n",
    "Input: N = 2, trust = [[1,2]]\n",
    "Output: 2\n",
    "\n",
    "Example 2:\n",
    "\n",
    "Input: N = 3, trust = [[1,3],[2,3]]\n",
    "Output: 3\n",
    "\n",
    "Example 3:\n",
    "\n",
    "Input: N = 3, trust = [[1,3],[2,3],[3,1]]\n",
    "Output: -1\n",
    "\n",
    "Example 4:\n",
    "\n",
    "Input: N = 3, trust = [[1,2],[2,3]]\n",
    "Output: -1\n",
    "\n",
    "Example 5:\n",
    "\n",
    "Input: N = 4, trust = [[1,3],[1,4],[2,3],[2,4],[4,3]]\n",
    "Output: 3\n",
    "\n",
    " \n",
    "\n",
    "Constraints:\n",
    "\n",
    "    1 <= N <= 1000\n",
    "    0 <= trust.length <= 10^4\n",
    "    trust[i].length == 2\n",
    "    trust[i] are all different\n",
    "    trust[i][0] != trust[i][1]\n",
    "    1 <= trust[i][0], trust[i][1] <= N\n",
    "\n"
   ]
  },
  {
   "cell_type": "code",
   "execution_count": null,
   "metadata": {},
   "outputs": [],
   "source": [
    "\n",
    "class Solution:\n",
    "    def findJudge(self, N: int, trust: List[List[int]]) -> int:\n",
    "    \tcount = [0] * (N+1)\n",
    "    \tfor i,j in trust:\n",
    "    \t\tcount[i] -= 1\n",
    "    \t\tcount[j] += 1\n",
    "    \tfor i in range(1,N+1):\n",
    "    \t\tif count[i] == N-1:\n",
    "    \t\t\treturn i\n",
    "    \treturn -1"
   ]
  },
  {
   "cell_type": "markdown",
   "metadata": {},
   "source": [
    "  Flood Fill\n",
    "\n",
    "An image is represented by a 2-D array of integers, each integer representing the pixel value of the image (from 0 to 65535).\n",
    "\n",
    "Given a coordinate (sr, sc) representing the starting pixel (row and column) of the flood fill, and a pixel value newColor, \"flood fill\" the image.\n",
    "\n",
    "To perform a \"flood fill\", consider the starting pixel, plus any pixels connected 4-directionally to the starting pixel of the same color as the starting pixel, plus any pixels connected 4-directionally to those pixels (also with the same color as the starting pixel), and so on. Replace the color of all of the aforementioned pixels with the newColor.\n",
    "\n",
    "At the end, return the modified image.\n",
    "\n",
    "Example 1:\n",
    "\n",
    "Input: \n",
    "image = [[1,1,1],[1,1,0],[1,0,1]]\n",
    "sr = 1, sc = 1, newColor = 2\n",
    "Output: [[2,2,2],[2,2,0],[2,0,1]]\n",
    "Explanation: \n",
    "From the center of the image (with position (sr, sc) = (1, 1)), all pixels connected \n",
    "by a path of the same color as the starting pixel are colored with the new color.\n",
    "Note the bottom corner is not colored 2, because it is not 4-directionally connected\n",
    "to the starting pixel.\n",
    "\n",
    "Note:\n",
    "The length of image and image[0] will be in the range [1, 50].\n",
    "The given starting pixel will satisfy 0 <= sr < image.length and 0 <= sc < image[0].length.\n",
    "The value of each color in image[i][j] and newColor will be an integer in [0, 65535].\n",
    "\n",
    "   Hide Hint #1  \n",
    "Write a recursive function that paints the pixel if it's the correct color, then recurses on neighboring pixels."
   ]
  },
  {
   "cell_type": "code",
   "execution_count": null,
   "metadata": {},
   "outputs": [],
   "source": [
    "class Solution:\n",
    "    def floodFill(self, image: List[List[int]], sr: int, sc: int, newColor: int) -> List[List[int]]:\n",
    "        R, C = len(image), len(image[0])\n",
    "        color = image[sr][sc]\n",
    "        if color == newColor: return image\n",
    "        def dfs(r, c):\n",
    "            if image[r][c] == color:\n",
    "                image[r][c] = newColor\n",
    "                if r >= 1: dfs(r-1, c)\n",
    "                if r+1 < R: dfs(r+1, c)\n",
    "                if c >= 1: dfs(r, c-1)\n",
    "                if c+1 < C: dfs(r, c+1)\n",
    "\n",
    "        dfs(sr, sc)\n",
    "        return image"
   ]
  },
  {
   "cell_type": "markdown",
   "metadata": {},
   "source": [
    "  Single Element in a Sorted Array\n",
    "\n",
    "You are given a sorted array consisting of only integers where every element appears exactly twice, except for one element which appears exactly once. Find this single element that appears only once.\n",
    "\n",
    "Follow up: Your solution should run in O(log n) time and O(1) space.\n",
    "\n",
    " \n",
    "\n",
    "Example 1:\n",
    "\n",
    "Input: nums = [1,1,2,3,3,4,4,8,8]\n",
    "Output: 2\n",
    "\n",
    "Example 2:\n",
    "\n",
    "Input: nums = [3,3,7,7,10,11,11]\n",
    "Output: 10\n",
    "\n",
    " \n",
    "\n",
    "Constraints:\n",
    "\n",
    "    1 <= nums.length <= 10^5\n",
    "    0 <= nums[i] <= 10^5\n",
    "\n"
   ]
  },
  {
   "cell_type": "code",
   "execution_count": null,
   "metadata": {},
   "outputs": [],
   "source": [
    "class Solution:\n",
    "    def singleNonDuplicate(self, nums: List[int]) -> int:\n",
    "        return sum(set(nums))*2-sum(nums)"
   ]
  },
  {
   "cell_type": "markdown",
   "metadata": {},
   "source": [
    "  Remove K Digits\n",
    "\n",
    "Given a non-negative integer num represented as a string, remove k digits from the number so that the new number is the smallest possible.\n",
    "\n",
    "Note:\n",
    "\n",
    "    The length of num is less than 10002 and will be ≥ k.\n",
    "    The given num does not contain any leading zero.\n",
    "\n",
    "Example 1:\n",
    "\n",
    "Input: num = \"1432219\", k = 3\n",
    "Output: \"1219\"\n",
    "Explanation: Remove the three digits 4, 3, and 2 to form the new number 1219 which is the smallest.\n",
    "\n",
    "Example 2:\n",
    "\n",
    "Input: num = \"10200\", k = 1\n",
    "Output: \"200\"\n",
    "Explanation: Remove the leading 1 and the number is 200. Note that the output must not contain leading zeroes.\n",
    "\n",
    "Example 3:\n",
    "\n",
    "Input: num = \"10\", k = 2\n",
    "Output: \"0\"\n",
    "Explanation: Remove all the digits from the number and it is left with nothing whic"
   ]
  },
  {
   "cell_type": "code",
   "execution_count": null,
   "metadata": {},
   "outputs": [],
   "source": [
    "class Solution:\n",
    "    def removeKdigits(self, num: str, k: int) -> str:\n",
    "        if len(num) == k:\n",
    "            return '0'\n",
    "        for i in range(k):\n",
    "            j = 0\n",
    "            while num[j]<=num[j+1]:\n",
    "                j += 1\n",
    "                if j == len(num)-1:\n",
    "                    break\n",
    "            num = num[:j]+num[j+1:]\n",
    "\n",
    "        return str(int(num))"
   ]
  },
  {
   "cell_type": "markdown",
   "metadata": {},
   "source": [
    "May 14th  Implement Trie (Prefix Tree)\n",
    "\n",
    "Implement a trie with insert, search, and startsWith methods.\n",
    "\n",
    "Example:\n",
    "\n",
    "Trie trie = new Trie();\n",
    "\n",
    "trie.insert(\"apple\");\n",
    "trie.search(\"apple\");   // returns true\n",
    "trie.search(\"app\");     // returns false\n",
    "trie.startsWith(\"app\"); // returns true\n",
    "trie.insert(\"app\");   \n",
    "trie.search(\"app\");     // returns true\n",
    "\n",
    "Note:\n",
    "\n",
    "    You may assume that all inputs are consist of lowercase letters a-z.\n",
    "    All inputs are guaranteed to be non-empty strings.\n",
    "\n"
   ]
  },
  {
   "cell_type": "code",
   "execution_count": null,
   "metadata": {},
   "outputs": [],
   "source": [
    "class Trie:\n",
    "\n",
    "    def __init__(self):\n",
    "        \"\"\"\n",
    "        Initialize your data structure here.\n",
    "        \"\"\"\n",
    "        self.vol = {}\n",
    "        \n",
    "\n",
    "    def insert(self, word: str) -> None:\n",
    "        \"\"\"\n",
    "        Inserts a word into the trie.\n",
    "        \"\"\"\n",
    "        self.vol[word] = 1\n",
    "        print('success')\n",
    "        \n",
    "\n",
    "    def search(self, word: str) -> bool:\n",
    "        \"\"\"\n",
    "        Returns if the word is in the trie.\n",
    "        \"\"\"\n",
    "        if word in self.vol.keys():\n",
    "            return True\n",
    "        return False\n",
    "        \n",
    "\n",
    "    def startsWith(self, prefix: str) -> bool:\n",
    "        \"\"\"\n",
    "        Returns if there is any word in the trie that starts with the given prefix.\n",
    "        \"\"\"\n",
    "        for keys in self.vol:\n",
    "            if prefix in keys:\n",
    "                for i in range(len(keys)):\n",
    "                    if prefix == keys[:i+1]:\n",
    "                        return True\n",
    "        return False\n",
    "\n",
    "\n",
    "# Your Trie object will be instantiated and called as such:\n",
    "# obj = Trie()\n",
    "# obj.insert(word)\n",
    "# param_2 = obj.search(word)\n",
    "# param_3 = obj.startsWith(prefix)"
   ]
  },
  {
   "cell_type": "markdown",
   "metadata": {},
   "source": [
    "May 15th\n",
    "Maximum Sum Circular Subarray\n",
    "\n",
    "Given a circular array C of integers represented by A, find the maximum possible sum of a non-empty subarray of C.\n",
    "\n",
    "Here, a circular array means the end of the array connects to the beginning of the array.  (Formally, C[i] = A[i] when 0 <= i < A.length, and C[i+A.length] = C[i] when i >= 0.)\n",
    "\n",
    "Also, a subarray may only include each element of the fixed buffer A at most once.  (Formally, for a subarray C[i], C[i+1], ..., C[j], there does not exist i <= k1, k2 <= j with k1 % A.length = k2 % A.length.)\n",
    "\n",
    " \n",
    "\n",
    "Example 1:\n",
    "\n",
    "Input: [1,-2,3,-2]\n",
    "Output: 3\n",
    "Explanation: Subarray [3] has maximum sum 3\n",
    "\n",
    "Example 2:\n",
    "\n",
    "Input: [5,-3,5]\n",
    "Output: 10\n",
    "Explanation: Subarray [5,5] has maximum sum 5 + 5 = 10\n",
    "\n",
    "Example 3:\n",
    "\n",
    "Input: [3,-1,2,-1]\n",
    "Output: 4\n",
    "Explanation: Subarray [2,-1,3] has maximum sum 2 + (-1) + 3 = 4\n",
    "\n",
    "Example 4:\n",
    "\n",
    "Input: [3,-2,2,-3]\n",
    "Output: 3\n",
    "Explanation: Subarray [3] and [3,-2,2] both have maximum sum 3\n",
    "\n",
    "Example 5:\n",
    "\n",
    "Input: [-2,-3,-1]\n",
    "Output: -1\n",
    "Explanation: Subarray [-1] has maximum sum -1\n",
    "\n",
    " \n",
    "\n",
    "Note:\n",
    "\n",
    "    -30000 <= A[i] <= 30000\n",
    "    1 <= A.length <= 30000\n",
    "\n",
    "https://leetcode.com/explore/challenge/card/may-leetcoding-challenge/536/week-3-may-15th-may-21st/3330/"
   ]
  },
  {
   "cell_type": "code",
   "execution_count": null,
   "metadata": {},
   "outputs": [],
   "source": [
    "class Solution:\n",
    "    def maxSubarraySumCircular(self, A: List[int]) -> int:\n",
    "        # if the max subarray includes both the beginning and\n",
    "        # end, we can find the minimal subarray and subtract\n",
    "        # it from the sum\n",
    "        running_max = lambda a, x: max(a + x, x)\n",
    "        maximal = max(accumulate(A, running_max))\n",
    "        s = sum(A)\n",
    "        running_min = lambda a, x: min(a + x, x)\n",
    "        minimal = min(accumulate(A, running_min))\n",
    "        minimal = min(minimal, 0)\n",
    "        # handle edge cases with all negative elements\n",
    "        return maximal if s == minimal else max(maximal, s - minimal)"
   ]
  },
  {
   "cell_type": "markdown",
   "metadata": {},
   "source": [
    "May 16th \n",
    "  Odd Even Linked List\n",
    "\n",
    "Given a singly linked list, group all odd nodes together followed by the even nodes. Please note here we are talking about the node number and not the value in the nodes.\n",
    "\n",
    "You should try to do it in place. The program should run in O(1) space complexity and O(nodes) time complexity.\n",
    "\n",
    "Example 1:\n",
    "\n",
    "Input: 1->2->3->4->5->NULL\n",
    "Output: 1->3->5->2->4->NULL\n",
    "\n",
    "Example 2:\n",
    "\n",
    "Input: 2->1->3->5->6->4->7->NULL\n",
    "Output: 2->3->6->7->1->5->4->NULL\n",
    "\n",
    " \n",
    "\n",
    "Constraints:\n",
    "\n",
    "    The relative order inside both the even and odd groups should remain as it was in the input.\n",
    "    The first node is considered odd, the second node even and so on ...\n",
    "    The length of the linked list is between [0, 10^4].\n",
    "https://leetcode.com/explore/challenge/card/may-leetcoding-challenge/536/week-3-may-15th-may-21st/3331/\n"
   ]
  },
  {
   "cell_type": "code",
   "execution_count": null,
   "metadata": {},
   "outputs": [],
   "source": [
    "# Definition for singly-linked list.\n",
    "# class ListNode:\n",
    "#     def __init__(self, val=0, next=None):\n",
    "#         self.val = val\n",
    "#         self.next = next\n",
    "class Solution:\n",
    "    def oddEvenList(self, head: ListNode) -> ListNode:\n",
    "        order = 1\n",
    "        newlist=[]\n",
    "        tail= head\n",
    "        if head == None:\n",
    "            return head\n",
    "        \n",
    "        while tail.next != None:\n",
    "            newlist.append(tail.val)\n",
    "            tail = tail.next\n",
    "\n",
    "        \n",
    "        newlist.append(tail.val)\n",
    "        fuck=[]\n",
    "        for i in range(len(newlist)):\n",
    "            if i%2 == 0:\n",
    "                fuck.append(newlist[i])\n",
    "                \n",
    "                \n",
    "        for i in range(len(newlist)):\n",
    "            if i%2 == 1:\n",
    "                fuck.append(newlist[i])   \n",
    "                \n",
    "\n",
    "        \n",
    "        def assign(head,list,start):\n",
    "            if head != None:\n",
    "                head.val = list[start]\n",
    "                assign(head.next,list,start+1)\n",
    "                \n",
    "        assign(head,fuck,0)\n",
    "            \n",
    "        return head\n",
    "                \n",
    "            "
   ]
  },
  {
   "cell_type": "markdown",
   "metadata": {},
   "source": [
    "  Find All Anagrams in a String\n",
    "\n",
    "Given a string s and a non-empty string p, find all the start indices of p's anagrams in s.\n",
    "\n",
    "Strings consists of lowercase English letters only and the length of both strings s and p will not be larger than 20,100.\n",
    "\n",
    "The order of output does not matter.\n",
    "\n",
    "Example 1:\n",
    "\n",
    "Input:\n",
    "s: \"cbaebabacd\" p: \"abc\"\n",
    "\n",
    "Output:\n",
    "[0, 6]\n",
    "\n",
    "Explanation:\n",
    "The substring with start index = 0 is \"cba\", which is an anagram of \"abc\".\n",
    "The substring with start index = 6 is \"bac\", which is an anagram of \"abc\".\n",
    "\n",
    "Example 2:\n",
    "\n",
    "Input:\n",
    "s: \"abab\" p: \"ab\"\n",
    "\n",
    "Output:\n",
    "[0, 1, 2]\n",
    "\n",
    "Explanation:\n",
    "The substring with start index = 0 is \"ab\", which is an anagram of \"ab\".\n",
    "The substring with start index = 1 is \"ba\", which is an anagram of \"ab\".\n",
    "The substring with start index = 2 is \"ab\", which is an anagram of \"ab\".\n",
    "https://leetcode.com/explore/challenge/card/may-leetcoding-challenge/536/week-3-may-15th-may-21st/3332/\n"
   ]
  },
  {
   "cell_type": "code",
   "execution_count": null,
   "metadata": {},
   "outputs": [],
   "source": [
    "class Solution:\n",
    "    def findAnagrams(self, s: str, p: str) -> List[int]:\n",
    "        slength = len(s)\n",
    "        pop = []\n",
    "        plength = len(p)\n",
    "        for i in range(slength):\n",
    "            if i+plength <= slength:\n",
    "                spart = s[i:i+plength]\n",
    "                if set(spart) == set(p):\n",
    "                    for elements in set(spart):\n",
    "                        if spart.count(elements) != p.count(elements):\n",
    "                            print('found a fake')\n",
    "                            break\n",
    "                        pop.append(i)\n",
    "        pop = list(dict.fromkeys(pop))\n",
    "        \n",
    "\n",
    "        return pop\n",
    "                \n",
    "            "
   ]
  },
  {
   "cell_type": "markdown",
   "metadata": {},
   "source": []
  },
  {
   "cell_type": "code",
   "execution_count": 14,
   "metadata": {},
   "outputs": [
    {
     "ename": "NameError",
     "evalue": "name 'List' is not defined",
     "output_type": "error",
     "traceback": [
      "\u001b[0;31m---------------------------------------------------------------------------\u001b[0m",
      "\u001b[0;31mNameError\u001b[0m                                 Traceback (most recent call last)",
      "\u001b[0;32m<ipython-input-14-f09f5bda5f3c>\u001b[0m in \u001b[0;36m<module>\u001b[0;34m\u001b[0m\n\u001b[0;32m----> 1\u001b[0;31m \u001b[0;32mclass\u001b[0m \u001b[0mSolution\u001b[0m\u001b[0;34m:\u001b[0m\u001b[0;34m\u001b[0m\u001b[0;34m\u001b[0m\u001b[0m\n\u001b[0m\u001b[1;32m      2\u001b[0m     \u001b[0;32mdef\u001b[0m \u001b[0mmaxSubArray\u001b[0m\u001b[0;34m(\u001b[0m\u001b[0mself\u001b[0m\u001b[0;34m,\u001b[0m \u001b[0mnums\u001b[0m\u001b[0;34m:\u001b[0m \u001b[0mList\u001b[0m\u001b[0;34m[\u001b[0m\u001b[0mint\u001b[0m\u001b[0;34m]\u001b[0m\u001b[0;34m)\u001b[0m \u001b[0;34m->\u001b[0m \u001b[0mint\u001b[0m\u001b[0;34m:\u001b[0m\u001b[0;34m\u001b[0m\u001b[0;34m\u001b[0m\u001b[0m\n\u001b[1;32m      3\u001b[0m         \u001b[0mmaxvalue\u001b[0m\u001b[0;34m=\u001b[0m  \u001b[0mmax\u001b[0m\u001b[0;34m(\u001b[0m\u001b[0mnums\u001b[0m\u001b[0;34m)\u001b[0m\u001b[0;34m\u001b[0m\u001b[0;34m\u001b[0m\u001b[0m\n\u001b[1;32m      4\u001b[0m         \u001b[0msize\u001b[0m \u001b[0;34m=\u001b[0m \u001b[0mlen\u001b[0m\u001b[0;34m(\u001b[0m\u001b[0mnums\u001b[0m\u001b[0;34m)\u001b[0m\u001b[0;34m\u001b[0m\u001b[0;34m\u001b[0m\u001b[0m\n\u001b[1;32m      5\u001b[0m         \u001b[0mmax_so_far\u001b[0m \u001b[0;34m=\u001b[0m \u001b[0mmaxvalue\u001b[0m\u001b[0;34m\u001b[0m\u001b[0;34m\u001b[0m\u001b[0m\n",
      "\u001b[0;32m<ipython-input-14-f09f5bda5f3c>\u001b[0m in \u001b[0;36mSolution\u001b[0;34m()\u001b[0m\n\u001b[1;32m      1\u001b[0m \u001b[0;32mclass\u001b[0m \u001b[0mSolution\u001b[0m\u001b[0;34m:\u001b[0m\u001b[0;34m\u001b[0m\u001b[0;34m\u001b[0m\u001b[0m\n\u001b[0;32m----> 2\u001b[0;31m     \u001b[0;32mdef\u001b[0m \u001b[0mmaxSubArray\u001b[0m\u001b[0;34m(\u001b[0m\u001b[0mself\u001b[0m\u001b[0;34m,\u001b[0m \u001b[0mnums\u001b[0m\u001b[0;34m:\u001b[0m \u001b[0mList\u001b[0m\u001b[0;34m[\u001b[0m\u001b[0mint\u001b[0m\u001b[0;34m]\u001b[0m\u001b[0;34m)\u001b[0m \u001b[0;34m->\u001b[0m \u001b[0mint\u001b[0m\u001b[0;34m:\u001b[0m\u001b[0;34m\u001b[0m\u001b[0;34m\u001b[0m\u001b[0m\n\u001b[0m\u001b[1;32m      3\u001b[0m         \u001b[0mmaxvalue\u001b[0m\u001b[0;34m=\u001b[0m  \u001b[0mmax\u001b[0m\u001b[0;34m(\u001b[0m\u001b[0mnums\u001b[0m\u001b[0;34m)\u001b[0m\u001b[0;34m\u001b[0m\u001b[0;34m\u001b[0m\u001b[0m\n\u001b[1;32m      4\u001b[0m         \u001b[0msize\u001b[0m \u001b[0;34m=\u001b[0m \u001b[0mlen\u001b[0m\u001b[0;34m(\u001b[0m\u001b[0mnums\u001b[0m\u001b[0;34m)\u001b[0m\u001b[0;34m\u001b[0m\u001b[0;34m\u001b[0m\u001b[0m\n\u001b[1;32m      5\u001b[0m         \u001b[0mmax_so_far\u001b[0m \u001b[0;34m=\u001b[0m \u001b[0mmaxvalue\u001b[0m\u001b[0;34m\u001b[0m\u001b[0;34m\u001b[0m\u001b[0m\n",
      "\u001b[0;31mNameError\u001b[0m: name 'List' is not defined"
     ]
    }
   ],
   "source": [
    "class Solution:\n",
    "    def maxSubArray(self, nums: List[int]) -> int:\n",
    "        maxvalue=  max(nums)\n",
    "        size = len(nums)\n",
    "        max_so_far = maxvalue\n",
    "        max_ending_here = 0\n",
    "        \n",
    "        for i in range (0,size):\n",
    "            max_ending_here=max_ending_here+nums[i]\n",
    "            if max_ending_here <0:\n",
    "                max_ending_here=0\n",
    "            elif (max_so_far < max_ending_here):\n",
    "                max_so_far = max_ending_here\n",
    "        return max_so_far\n",
    "    \n"
   ]
  },
  {
   "cell_type": "markdown",
   "metadata": {},
   "source": [
    "#4>. Given an array nums, write a function to move all 0's to the end of it while maintaining the relative order of the non-zero elements.\n",
    "\n",
    "Example:\n",
    "\n",
    "Input: [0,1,0,3,12]\n",
    "Output: [1,3,12,0,0]\n",
    "\n",
    "Note:\n",
    "\n",
    "    You must do this in-place without making a copy of the array.\n",
    "    Minimize the total number of operations.\n"
   ]
  },
  {
   "cell_type": "code",
   "execution_count": 4,
   "metadata": {},
   "outputs": [
    {
     "ename": "NameError",
     "evalue": "name 'List' is not defined",
     "output_type": "error",
     "traceback": [
      "\u001b[0;31m---------------------------------------------------------------------------\u001b[0m",
      "\u001b[0;31mNameError\u001b[0m                                 Traceback (most recent call last)",
      "\u001b[0;32m<ipython-input-4-a91cf68701eb>\u001b[0m in \u001b[0;36m<module>\u001b[0;34m\u001b[0m\n\u001b[0;32m----> 1\u001b[0;31m \u001b[0;32mclass\u001b[0m \u001b[0mSolution\u001b[0m\u001b[0;34m:\u001b[0m\u001b[0;34m\u001b[0m\u001b[0;34m\u001b[0m\u001b[0m\n\u001b[0m\u001b[1;32m      2\u001b[0m     \u001b[0;32mdef\u001b[0m \u001b[0mmoveZeroes\u001b[0m\u001b[0;34m(\u001b[0m\u001b[0mself\u001b[0m\u001b[0;34m,\u001b[0m \u001b[0mnums\u001b[0m\u001b[0;34m:\u001b[0m \u001b[0mList\u001b[0m\u001b[0;34m[\u001b[0m\u001b[0mint\u001b[0m\u001b[0;34m]\u001b[0m\u001b[0;34m)\u001b[0m \u001b[0;34m->\u001b[0m \u001b[0;32mNone\u001b[0m\u001b[0;34m:\u001b[0m\u001b[0;34m\u001b[0m\u001b[0;34m\u001b[0m\u001b[0m\n\u001b[1;32m      3\u001b[0m         \"\"\"\n\u001b[1;32m      4\u001b[0m         \u001b[0mDo\u001b[0m \u001b[0;32mnot\u001b[0m \u001b[0;32mreturn\u001b[0m \u001b[0manything\u001b[0m\u001b[0;34m,\u001b[0m \u001b[0mmodify\u001b[0m \u001b[0mnums\u001b[0m \u001b[0;32min\u001b[0m\u001b[0;34m-\u001b[0m\u001b[0mplace\u001b[0m \u001b[0minstead\u001b[0m\u001b[0;34m.\u001b[0m\u001b[0;34m\u001b[0m\u001b[0;34m\u001b[0m\u001b[0m\n\u001b[1;32m      5\u001b[0m         \"\"\"\n",
      "\u001b[0;32m<ipython-input-4-a91cf68701eb>\u001b[0m in \u001b[0;36mSolution\u001b[0;34m()\u001b[0m\n\u001b[1;32m      1\u001b[0m \u001b[0;32mclass\u001b[0m \u001b[0mSolution\u001b[0m\u001b[0;34m:\u001b[0m\u001b[0;34m\u001b[0m\u001b[0;34m\u001b[0m\u001b[0m\n\u001b[0;32m----> 2\u001b[0;31m     \u001b[0;32mdef\u001b[0m \u001b[0mmoveZeroes\u001b[0m\u001b[0;34m(\u001b[0m\u001b[0mself\u001b[0m\u001b[0;34m,\u001b[0m \u001b[0mnums\u001b[0m\u001b[0;34m:\u001b[0m \u001b[0mList\u001b[0m\u001b[0;34m[\u001b[0m\u001b[0mint\u001b[0m\u001b[0;34m]\u001b[0m\u001b[0;34m)\u001b[0m \u001b[0;34m->\u001b[0m \u001b[0;32mNone\u001b[0m\u001b[0;34m:\u001b[0m\u001b[0;34m\u001b[0m\u001b[0;34m\u001b[0m\u001b[0m\n\u001b[0m\u001b[1;32m      3\u001b[0m         \"\"\"\n\u001b[1;32m      4\u001b[0m         \u001b[0mDo\u001b[0m \u001b[0;32mnot\u001b[0m \u001b[0;32mreturn\u001b[0m \u001b[0manything\u001b[0m\u001b[0;34m,\u001b[0m \u001b[0mmodify\u001b[0m \u001b[0mnums\u001b[0m \u001b[0;32min\u001b[0m\u001b[0;34m-\u001b[0m\u001b[0mplace\u001b[0m \u001b[0minstead\u001b[0m\u001b[0;34m.\u001b[0m\u001b[0;34m\u001b[0m\u001b[0;34m\u001b[0m\u001b[0m\n\u001b[1;32m      5\u001b[0m         \"\"\"\n",
      "\u001b[0;31mNameError\u001b[0m: name 'List' is not defined"
     ]
    }
   ],
   "source": [
    "class Solution:\n",
    "    def moveZeroes(self, nums: List[int]) -> None:\n",
    "        size = len(nums)\n",
    "        cheat =[]\n",
    "        zeroter=0\n",
    "        x=0\n",
    "        for i in range(size):           \n",
    "            #print(nums[x])\n",
    "            if nums[x] ==0:\n",
    "                #print(nums[x],\"is a zero, removing\")\n",
    "                nums.remove(0)\n",
    "                zeroter +=1\n",
    "                #print('current list is', nums)\n",
    "                x -=1\n",
    "            x +=1\n",
    "        for i in range(zeroter):\n",
    "            nums.append(0)\n",
    "        "
   ]
  },
  {
   "cell_type": "markdown",
   "metadata": {},
   "source": [
    "#5>. Given an array of strings, group anagrams together.\n",
    "\n",
    "Example:\n",
    "\n",
    "Input: [\"eat\", \"tea\", \"tan\", \"ate\", \"nat\", \"bat\"],\n",
    "Output:\n",
    "[\n",
    "  [\"ate\",\"eat\",\"tea\"],\n",
    "  [\"nat\",\"tan\"],\n",
    "  [\"bat\"]\n",
    "]\n",
    "\n",
    "Note:\n",
    "\n",
    "    All inputs will be in lowercase.\n",
    "    The order of your output does not matter.\n",
    "\n"
   ]
  },
  {
   "cell_type": "code",
   "execution_count": 37,
   "metadata": {},
   "outputs": [],
   "source": [
    "from collections import defaultdict\n",
    "class Solution(object):\n",
    "    def groupAnagrams(self, strs):\n",
    "        ans = defaultdict(list)\n",
    "        for s in strs:\n",
    "            ans[tuple(sorted(s))].append(s)\n",
    "        return ans.values()"
   ]
  },
  {
   "cell_type": "code",
   "execution_count": 38,
   "metadata": {},
   "outputs": [
    {
     "data": {
      "text/plain": [
       "dict_values([['eat', 'tea', 'ate'], ['tan', 'nat'], ['bat']])"
      ]
     },
     "execution_count": 38,
     "metadata": {},
     "output_type": "execute_result"
    }
   ],
   "source": [
    "x=Solution()\n",
    "x.groupAnagrams([\"eat\", \"tea\", \"tan\", \"ate\", \"nat\", \"bat\"])"
   ]
  },
  {
   "cell_type": "code",
   "execution_count": 40,
   "metadata": {},
   "outputs": [],
   "source": [
    "ans = defaultdict(list)"
   ]
  },
  {
   "cell_type": "markdown",
   "metadata": {},
   "source": [
    "Single Element in a Sorted Array\n",
    "\n",
    "You are given a sorted array consisting of only integers where every element appears exactly twice, except for one element which appears exactly once. Find this single element that appears only once.\n",
    "\n",
    " \n",
    "\n",
    "Example 1:\n",
    "\n",
    "Input: [1,1,2,3,3,4,4,8,8]\n",
    "Output: 2\n",
    "\n",
    "Example 2:\n",
    "\n",
    "Input: [3,3,7,7,10,11,11]\n",
    "Output: 10"
   ]
  },
  {
   "cell_type": "code",
   "execution_count": 111,
   "metadata": {},
   "outputs": [
    {
     "name": "stdout",
     "output_type": "stream",
     "text": [
      "[2, 3]\n"
     ]
    }
   ],
   "source": [
    "#best answer:\n",
    "    \n",
    "nums = [1,1,3,3,6,6,7,7,5,8,9,9,8]\n",
    "sum(set(nums))*2-sum(nums)"
   ]
  },
  {
   "cell_type": "markdown",
   "metadata": {},
   "source": [
    "Given a non-negative integer num represented as a string, remove k digits from the number so that the new number is the smallest possible.\n",
    "\n",
    "Note:\n",
    "\n",
    "    The length of num is less than 10002 and will be ≥ k.\n",
    "    The given num does not contain any leading zero.\n",
    "\n",
    "Example 1:\n",
    "\n",
    "Input: num = \"1432219\", k = 3\n",
    "Output: \"1219\"\n",
    "Explanation: Remove the three digits 4, 3, and 2 to form the new number 1219 which is the smallest.\n",
    "\n",
    "Example 2:\n",
    "\n",
    "Input: num = \"10200\", k = 1\n",
    "Output: \"200\"\n",
    "Explanation: Remove the leading 1 and the number is 200. Note that the output must not contain leading zeroes.\n",
    "\n",
    "Example 3:\n",
    "\n",
    "Input: num = \"10\", k = 2\n",
    "Output: \"0\"\n",
    "Explanation: Remove all the digits from the number and it is left with nothing which is 0.\n"
   ]
  },
  {
   "cell_type": "code",
   "execution_count": null,
   "metadata": {},
   "outputs": [],
   "source": [
    "num = '237461823'\n",
    "k=2"
   ]
  },
  {
   "cell_type": "code",
   "execution_count": null,
   "metadata": {},
   "outputs": [],
   "source": [
    "class Solution:\n",
    "    def removeKdigits(self, num: str, k: int) -> str:\n",
    "        if len(num) == k:\n",
    "            return '0'\n",
    "\n",
    "        #print('test value',num)\n",
    "        #print('times of selection needs to be done',k)\n",
    "        #print('length of num',len(num))\n",
    "\n",
    "        for i in range(k):\n",
    "            #print(i+1,'times selection.',k-i-1,'times left')\n",
    "            j = 0\n",
    "\n",
    "            while num[j]<=num[j+1]:\n",
    "                #print('value',num[j],'is smaller than ',num[j+1])\n",
    "                #print('pass',num[j],'location is:',j+1)\n",
    "                j += 1\n",
    "                if j == len(num)-1:\n",
    "                    #print('reached the last one, break and delete this one')\n",
    "                    break\n",
    "                    \n",
    "            #print('found the num need to be removed', num[j],'removing')\n",
    "            #print(num[:j],' ' ,num[j+1:])\n",
    "            num = num[:j]+num[j+1:]\n",
    "            #print(num)\n",
    "        \n",
    "        return str(int(num))"
   ]
  },
  {
   "cell_type": "markdown",
   "metadata": {},
   "source": [
    "Implement a trie with insert, search, and startsWith methods.\n",
    "\n",
    "Example:\n",
    "\n",
    "Trie trie = new Trie();\n",
    "\n",
    "trie.insert(\"apple\");\n",
    "trie.search(\"apple\");   // returns true\n",
    "trie.search(\"app\");     // returns false\n",
    "trie.startsWith(\"app\"); // returns true\n",
    "trie.insert(\"app\");   \n",
    "trie.search(\"app\");     // returns true\n",
    "\n",
    "Note:\n",
    "\n",
    "    You may assume that all inputs are consist of lowercase letters a-z.\n",
    "    All inputs are guaranteed to be non-empty strings.\n",
    "\n"
   ]
  },
  {
   "cell_type": "code",
   "execution_count": null,
   "metadata": {},
   "outputs": [],
   "source": [
    "class Trie:\n",
    "\n",
    "    def __init__(self):\n",
    "        \"\"\"\n",
    "        Initialize your data structure here.\n",
    "        \"\"\"\n",
    "        self.vol = {}\n",
    "        \n",
    "\n",
    "    def insert(self, word: str) -> None:\n",
    "        \"\"\"\n",
    "        Inserts a word into the trie.\n",
    "        \"\"\"\n",
    "        self.vol[word] = 1\n",
    "        print('success')\n",
    "        \n",
    "\n",
    "    def search(self, word: str) -> bool:\n",
    "        \"\"\"\n",
    "        Returns if the word is in the trie.\n",
    "        \"\"\"\n",
    "        if word in self.vol.keys():\n",
    "            return True\n",
    "        return False\n",
    "        \n",
    "\n",
    "    def startsWith(self, prefix: str) -> bool:\n",
    "        \"\"\"\n",
    "        Returns if there is any word in the trie that starts with the given prefix.\n",
    "        \"\"\"\n",
    "        for keys in self.vol:\n",
    "            if prefix in keys:   # why i do this? because if we do not make a pre-judge, the time will used more, so we do not have to check every character\n",
    "                for i in range(len(keys)):\n",
    "                    if prefix == keys[:i+1]:\n",
    "                        return True\n",
    "        return False"
   ]
  },
  {
   "cell_type": "markdown",
   "metadata": {},
   "source": [
    "  Find All Anagrams in a String\n",
    "\n",
    "Given a string s and a non-empty string p, find all the start indices of p's anagrams in s.\n",
    "\n",
    "Strings consists of lowercase English letters only and the length of both strings s and p will not be larger than 20,100.\n",
    "\n",
    "The order of output does not matter.\n",
    "\n",
    "Example 1:\n",
    "\n",
    "Input:\n",
    "s: \"cbaebabacd\" p: \"abc\"\n",
    "\n",
    "Output:\n",
    "[0, 6]\n",
    "\n",
    "Explanation:\n",
    "The substring with start index = 0 is \"cba\", which is an anagram of \"abc\".\n",
    "The substring with start index = 6 is \"bac\", which is an anagram of \"abc\".\n",
    "\n",
    "Example 2:\n",
    "\n",
    "Input:\n",
    "s: \"abab\" p: \"ab\"\n",
    "\n",
    "Output:\n",
    "[0, 1, 2]\n",
    "\n",
    "Explanation:\n",
    "The substring with start index = 0 is \"ab\", which is an anagram of \"ab\".\n",
    "The substring with start index = 1 is \"ba\", which is an anagram of \"ab\".\n",
    "The substring with start index = 2 is \"ab\", which is an anagram of \"ab\".\n"
   ]
  },
  {
   "cell_type": "code",
   "execution_count": 48,
   "metadata": {},
   "outputs": [
    {
     "ename": "IndentationError",
     "evalue": "expected an indented block (<ipython-input-48-2159dd2a875c>, line 12)",
     "output_type": "error",
     "traceback": [
      "\u001b[0;36m  File \u001b[0;32m\"<ipython-input-48-2159dd2a875c>\"\u001b[0;36m, line \u001b[0;32m12\u001b[0m\n\u001b[0;31m    if for elements in set(spart):\u001b[0m\n\u001b[0m     ^\u001b[0m\n\u001b[0;31mIndentationError\u001b[0m\u001b[0;31m:\u001b[0m expected an indented block\n"
     ]
    }
   ],
   "source": [
    "def findAnagrams( s: str, p: str):\n",
    "    slength = len(s)\n",
    "    pop = []\n",
    "    plength = len(p)\n",
    "    for i in range(slength):\n",
    "        #print(i,'times')\n",
    "        #print(s[i:i+plength])\n",
    "        #print(i,i+plength)\n",
    "        if i+plength <= slength:\n",
    "            spart = s[i:i+plength]\n",
    "            if set(spart) == set(p):  \n",
    "                for elements in set(spart):\n",
    "                    if spart.count(elements) != p.count(elements):\n",
    "                        print('found a fake')\n",
    "                        break\n",
    "                    pop.append(i)\n",
    "                        \n",
    "    pop = list(dict.fromkeys(pop))\n",
    "\n",
    "    return pop"
   ]
  },
  {
   "cell_type": "code",
   "execution_count": 49,
   "metadata": {},
   "outputs": [
    {
     "name": "stdout",
     "output_type": "stream",
     "text": [
      "found a fake\n",
      "found a fake\n",
      "found a fake\n",
      "found a fake\n"
     ]
    },
    {
     "data": {
      "text/plain": [
       "[0, 2, 4, 6]"
      ]
     },
     "execution_count": 49,
     "metadata": {},
     "output_type": "execute_result"
    }
   ],
   "source": [
    "findAnagrams('ababababab','aab')"
   ]
  },
  {
   "cell_type": "markdown",
   "metadata": {},
   "source": [
    "  Permutation in String\n",
    "\n",
    "Given two strings s1 and s2, write a function to return true if s2 contains the permutation of s1. In other words, one of the first string's permutations is the substring of the second string.\n",
    "\n",
    " \n",
    "\n",
    "Example 1:\n",
    "\n",
    "Input: s1 = \"ab\" s2 = \"eidbaooo\"\n",
    "Output: True\n",
    "Explanation: s2 contains one permutation of s1 (\"ba\").\n",
    "\n",
    "Example 2:\n",
    "\n",
    "Input:s1= \"ab\" s2 = \"eidboaoo\"\n",
    "Output: False\n",
    "\n",
    " \n",
    "\n",
    "Note:\n",
    "\n",
    "    The input strings only contain lower case letters.\n",
    "    The length of both given strings is in range [1, 10,000].\n",
    "\n",
    "   Hide Hint #1  \n",
    "Obviously, brute force will result in TLE. Think of something else.\n",
    "   Hide Hint #2  \n",
    "How will you check whether one string is a permutation of another string?\n",
    "   Hide Hint #3  \n",
    "One way is to sort the string and then compare. But, Is there a better way?\n",
    "   Hide Hint #4  \n",
    "If one string is a permutation of another string then they must one common metric. What is that?\n",
    "   Hide Hint #5  \n",
    "Both strings must have same character frequencies, if one is permutation of another. Which data structure should be used to store frequencies?\n",
    "   Hide Hint #6  \n",
    "What about hash table? An array of size 26?"
   ]
  },
  {
   "cell_type": "code",
   "execution_count": 24,
   "metadata": {},
   "outputs": [],
   "source": [
    "from collections import Counter\n",
    "def checkInclusion(s1: str, s2: str):\n",
    "    m=\"\"\n",
    "    for i in range(0,len(s2)-len(s1)+1):\n",
    "        print(i)\n",
    "      \n",
    "        m=s2[i:i+len(s1)]\n",
    "        print(m,Counter(m),Counter(s1))\n",
    "        if Counter(m)==Counter(s1):\n",
    "            return True\n",
    "    return False\n"
   ]
  },
  {
   "cell_type": "code",
   "execution_count": 25,
   "metadata": {},
   "outputs": [
    {
     "name": "stdout",
     "output_type": "stream",
     "text": [
      "0\n",
      "ab Counter({'a': 1, 'b': 1}) Counter({'a': 1, 'b': 1})\n"
     ]
    },
    {
     "data": {
      "text/plain": [
       "True"
      ]
     },
     "execution_count": 25,
     "metadata": {},
     "output_type": "execute_result"
    }
   ],
   "source": [
    "checkInclusion('ab','abc')"
   ]
  },
  {
   "cell_type": "markdown",
   "metadata": {},
   "source": []
  },
  {
   "cell_type": "markdown",
   "metadata": {},
   "source": [
    "May 19th  Online Stock Span\n",
    "\n",
    "Write a class StockSpanner which collects daily price quotes for some stock, and returns the span of that stock's price for the current day.\n",
    "\n",
    "The span of the stock's price today is defined as the maximum number of consecutive days (starting from today and going backwards) for which the price of the stock was less than or equal to today's price.\n",
    "s\n",
    "For example, if the price of a stock over the next 7 days were [100, 80, 60, 70, 60, 75, 85], then the stock spans would be [1, 1, 1, 2, 1, 4, 6].\n",
    "\n",
    " \n",
    "\n",
    "Example 1:\n",
    "\n",
    "Input: [\"StockSpanner\",\"next\",\"next\",\"next\",\"next\",\"next\",\"next\",\"next\"], [[],[100],[80],[60],[70],[60],[75],[85]]\n",
    "Output: [null,1,1,1,2,1,4,6]\n",
    "Explanation: \n",
    "First, S = StockSpanner() is initialized.  Then:\n",
    "S.next(100) is called and returns 1,\n",
    "S.next(80) is called and returns 1,\n",
    "S.next(60) is called and returns 1,\n",
    "S.next(70) is called and returns 2,\n",
    "S.next(60) is called and returns 1,\n",
    "S.next(75) is called and returns 4,\n",
    "S.next(85) is called and returns 6.\n",
    "\n",
    "Note that (for example) S.next(75) returned 4, because the last 4 prices\n",
    "(including today's price of 75) were less than or equal to today's price.\n",
    "\n",
    " \n",
    "\n",
    "Note:\n",
    "\n",
    "    Calls to StockSpanner.next(int price) will have 1 <= price <= 10^5.\n",
    "    There will be at most 10000 calls to StockSpanner.next per test case.\n",
    "    There will be at most 150000 calls to StockSpanner.next across all test cases.\n",
    "    The total time limit for this problem has been reduced by 75% for C++, and 50% for all other languages.\n",
    "\n",
    "https://leetcode.com/explore/challenge/card/may-leetcoding-challenge/536/week-3-may-15th-may-21st/3334/"
   ]
  },
  {
   "cell_type": "markdown",
   "metadata": {},
   "source": [
    "there are two test which are interesting:\n",
    "\n",
    "ubmission Result: Wrong Answer \n",
    "Input: [\"StockSpanner\",\"next\",\"next\",\"next\",\"next\",\"next\"]\n",
    "[[],[31],[41],[48],[59],[79]]\n",
    "Output: [null,1,1,2,3,4]\n",
    "Expected: [null,1,2,3,4,5]"
   ]
  },
  {
   "cell_type": "markdown",
   "metadata": {},
   "source": [
    "Your input\n",
    "\n",
    "[\"StockSpanner\",\"next\",\"next\",\"next\",\"next\",\"next\",\"next\",\"next\"]\n",
    "[[],[100],[80],[60],[70],[60],[75],[85]]\n",
    "Your answer\n",
    "\n",
    "[null,1,2,2,3,2,5,7]\n",
    "\n",
    "Expected answer\n",
    "\n",
    "[null,1,1,1,2,1,4,6]"
   ]
  },
  {
   "cell_type": "code",
   "execution_count": 87,
   "metadata": {},
   "outputs": [],
   "source": [
    "class StockSpanner:\n",
    "\n",
    "    def __init__(self):\n",
    "        self.history =[]\n",
    "        self.min = 100000\n",
    "        self.index = 1\n",
    "        \n",
    "    def next(self, price: int) -> int:\n",
    "        self.history.append(price)\n",
    "        days =len(self.history)\n",
    "        self.index =0\n",
    "        print('haivng new thing')\n",
    "        for i in range(1,days+1):\n",
    "            if self.history[-i] <= price:\n",
    "                self.index += 1\n",
    "            else:\n",
    "                break\n",
    "                \n",
    "        return self.index"
   ]
  },
  {
   "cell_type": "markdown",
   "metadata": {},
   "source": [
    "above solution is correct however it got TLE while running with a more complicated string, below I attached a solution is so called \"monotonic stack\""
   ]
  },
  {
   "cell_type": "code",
   "execution_count": 94,
   "metadata": {},
   "outputs": [],
   "source": [
    "class StockSpanner:\n",
    "\n",
    "    def __init__(self):\n",
    "        \n",
    "        # maintain a monotonic stack for stock entry\n",
    "        \n",
    "\t\t## definition of stock entry:\n",
    "        # first parameter is price quote\n",
    "        # second parameter is price span\n",
    "        self.monotone_stack = []\n",
    "              \n",
    "        \n",
    "        \n",
    "    def next(self, price: int) -> int:\n",
    "\n",
    "        stack = self.monotone_stack\n",
    "        \n",
    "        cur_price_quote, cur_price_span = price, 1\n",
    "        \n",
    "        # Compute price span in stock data with monotonic stack\n",
    "        while stack and stack[-1][0] <= cur_price_quote:\n",
    "            \n",
    "            prev_price_quote, prev_price_span = stack.pop()\n",
    "            \n",
    "            # update current price span with history data in stack\n",
    "            cur_price_span += prev_price_span\n",
    "        \n",
    "        # Update latest price quote and price span\n",
    "        stack.append( (cur_price_quote, cur_price_span) )\n",
    "        \n",
    "        return cur_price_span\n",
    "\n",
    "    \n"
   ]
  },
  {
   "cell_type": "code",
   "execution_count": 99,
   "metadata": {},
   "outputs": [
    {
     "data": {
      "text/plain": [
       "1"
      ]
     },
     "execution_count": 99,
     "metadata": {},
     "output_type": "execute_result"
    }
   ],
   "source": [
    "tester = StockSpanner()\n",
    "tester.next(31)\n",
    "tester.next(41)\n",
    "tester.next(40)"
   ]
  },
  {
   "cell_type": "code",
   "execution_count": 100,
   "metadata": {},
   "outputs": [
    {
     "data": {
      "text/plain": [
       "[(41, 2), (40, 1)]"
      ]
     },
     "execution_count": 100,
     "metadata": {},
     "output_type": "execute_result"
    }
   ],
   "source": [
    "tester.monotone_stack"
   ]
  },
  {
   "cell_type": "markdown",
   "metadata": {},
   "source": [
    "hMay 21st  Count Square Submatrices with All Ones\n",
    "\n",
    "Given a m * n matrix of ones and zeros, return how many square submatrices have all ones.\n",
    "\n",
    " \n",
    "\n",
    "Example 1:\n",
    "\n",
    "Input: matrix =\n",
    "[\n",
    "  [0,1,1,1],\n",
    "  [1,1,1,1],\n",
    "  [0,1,1,1]\n",
    "]\n",
    "Output: 15\n",
    "Explanation: \n",
    "There are 10 squares of side 1.\n",
    "There are 4 squares of side 2.\n",
    "There is  1 square of side 3.\n",
    "Total number of squares = 10 + 4 + 1 = 15.\n",
    "\n",
    "Example 2:\n",
    "\n",
    "Input: matrix = \n",
    "[\n",
    "  [1,0,1],\n",
    "  [1,1,0],\n",
    "  [1,1,0]\n",
    "]\n",
    "Output: 7\n",
    "Explanation: \n",
    "There are 6 squares of side 1.  \n",
    "There is 1 square of side 2. \n",
    "Total number of squares = 6 + 1 = 7.\n",
    "\n",
    " \n",
    "\n",
    "Constraints:\n",
    "\n",
    "    1 <= arr.length <= 300\n",
    "    1 <= arr[0].length <= 300\n",
    "    0 <= arr[i][j] <= 1\n",
    "\n"
   ]
  },
  {
   "cell_type": "code",
   "execution_count": null,
   "metadata": {},
   "outputs": [],
   "source": [
    "class Solution:\n",
    "    def countSquares(self, matrix: List[List[int]]) -> int:\n",
    "        if matrix is None or len(matrix) == 0:\n",
    "             return 0\n",
    "        \n",
    "        rows = len(matrix)\n",
    "        cols = len(matrix[0])\n",
    "         \n",
    "        result = 0\n",
    "         \n",
    "        for r in range(rows):\n",
    "            for c in range(cols):\n",
    "                if matrix[r][c] == 1:   \n",
    "                    if r == 0 or c == 0: # Cases with first row or first col\n",
    "                        result += 1      # The 1 cells are square on its own               \n",
    "                    else:                # Other cells\n",
    "                        cell_val = min(matrix[r-1][c-1], matrix[r][c-1], matrix[r-1][c]) + matrix[r][c]\n",
    "                        result += cell_val\n",
    "                        matrix[r][c] = cell_val #**memoize the updated result**\n",
    "        return result  "
   ]
  },
  {
   "cell_type": "markdown",
   "metadata": {},
   "source": [
    "May 22nd  Sort Characters By Frequency\n",
    "\n",
    "Given a string, sort it in decreasing order based on the frequency of characters.\n",
    "\n",
    "Example 1:\n",
    "\n",
    "Input:\n",
    "\"tree\"\n",
    "\n",
    "Output:\n",
    "\"eert\"\n",
    "\n",
    "Explanation:\n",
    "'e' appears twice while 'r' and 't' both appear once.\n",
    "So 'e' must appear before both 'r' and 't'. Therefore \"eetr\" is also a valid answer.\n",
    "\n",
    "Example 2:\n",
    "\n",
    "Input:\n",
    "\"cccaaa\"\n",
    "\n",
    "Output:\n",
    "\"cccaaa\"\n",
    "\n",
    "Explanation:\n",
    "Both 'c' and 'a' appear three times, so \"aaaccc\" is also a valid answer.\n",
    "Note that \"cacaca\" is incorrect, as the same characters must be together.\n",
    "\n",
    "Example 3:\n",
    "\n",
    "Input:\n",
    "\"Aabb\"\n",
    "\n",
    "Output:\n",
    "\"bbAa\"\n",
    "\n",
    "Explanation:\n",
    "\"bbaA\" is also a valid answer, but \"Aabb\" is incorrect.\n",
    "Note that 'A' and 'a' are treated as two different characters.\n"
   ]
  },
  {
   "cell_type": "code",
   "execution_count": 73,
   "metadata": {},
   "outputs": [],
   "source": [
    "test ='aacccbb'\n"
   ]
  },
  {
   "cell_type": "code",
   "execution_count": 74,
   "metadata": {},
   "outputs": [],
   "source": [
    "from collections import Counter\n"
   ]
  },
  {
   "cell_type": "code",
   "execution_count": 128,
   "metadata": {},
   "outputs": [],
   "source": [
    "\n",
    "def frequencySort(s: str):\n",
    "    test = Counter(s)\n",
    "    new = ''\n",
    "    for i in range(len(tester.most_common())):\n",
    "        for j in range((tester.most_common()[i][1])):\n",
    "            print(j)\n",
    "            new = new+(tester.most_common()[i][0])\n",
    "    return new"
   ]
  },
  {
   "cell_type": "code",
   "execution_count": null,
   "metadata": {},
   "outputs": [],
   "source": [
    "#another sollution is shown below:\n",
    "#one-line\n",
    "return \"\".join([char * times for char, times in collections.Counter(str).most_common()])"
   ]
  },
  {
   "cell_type": "code",
   "execution_count": 133,
   "metadata": {},
   "outputs": [],
   "source": [
    "def frequencySort(s: str):\n",
    "    return \"\".join([char * times for char, times in Counter(s).most_common()])"
   ]
  },
  {
   "cell_type": "code",
   "execution_count": 134,
   "metadata": {},
   "outputs": [
    {
     "data": {
      "text/plain": [
       "'vvvvvvaaab'"
      ]
     },
     "execution_count": 134,
     "metadata": {},
     "output_type": "execute_result"
    }
   ],
   "source": [
    "frequencySort('aaabvvvvvv')"
   ]
  },
  {
   "cell_type": "markdown",
   "metadata": {},
   "source": [
    "May 23rd  Interval List Intersections\n",
    "\n",
    "Given two lists of closed intervals, each list of intervals is pairwise disjoint and in sorted order.\n",
    "\n",
    "Return the intersection of these two interval lists.\n",
    "\n",
    "(Formally, a closed interval [a, b] (with a <= b) denotes the set of real numbers x with a <= x <= b.  The intersection of two closed intervals is a set of real numbers that is either empty, or can be represented as a closed interval.  For example, the intersection of [1, 3] and [2, 4] is [2, 3].)\n",
    "\n",
    " \n",
    "\n",
    "Example 1:\n",
    "\n",
    "Input: A = [[0,2],[5,10],[13,23],[24,25]], B = [[1,5],[8,12],[15,24],[25,26]]\n",
    "Output: [[1,2],[5,5],[8,10],[15,23],[24,24],[25,25]]\n",
    "Reminder: The inputs and the desired output are lists of Interval objects, and not arrays or lists.\n",
    "\n",
    " \n",
    "\n",
    "Note:\n",
    "\n",
    "    0 <= A.length < 1000\n",
    "    0 <= B.length < 1000\n",
    "    0 <= A[i].start, A[i].end, B[i].start, B[i].end < 10^9\n",
    "\n",
    "NOTE: input types have been changed on April 15, 2019. Please reset to default code definition to get new method signature.\n"
   ]
  },
  {
   "cell_type": "code",
   "execution_count": 179,
   "metadata": {},
   "outputs": [],
   "source": [
    "\n",
    "def intervalIntersection(A, B):\n",
    "    m, n = len(A), len(B)\n",
    "    i = j = 0\n",
    "    res = []\n",
    "    while i < m and j < n:\n",
    "        if A[i][-1] >= B[j][0] and A[i][0] <= B[j][-1]:\n",
    "            res.append([max(A[i][0], B[j][0]), min(A[i][-1], B[j][-1])])\n",
    "        if A[i][-1] < B[j][-1]:\n",
    "            i += 1\n",
    "        else:\n",
    "            j += 1\n",
    "    return res "
   ]
  },
  {
   "cell_type": "code",
   "execution_count": 180,
   "metadata": {},
   "outputs": [
    {
     "data": {
      "text/plain": [
       "[[1, 2], [5, 5], [8, 10], [15, 23], [24, 24], [25, 25]]"
      ]
     },
     "execution_count": 180,
     "metadata": {},
     "output_type": "execute_result"
    }
   ],
   "source": [
    "A = [[0,2],[5,10],[13,23],[24,25]]\n",
    "B = [[1,5],[8,12],[15,24],[25,26]]\n",
    "intervalIntersection(A,B)"
   ]
  },
  {
   "cell_type": "markdown",
   "metadata": {},
   "source": [
    "May 24th  Construct Binary Search Tree from Preorder Traversal\n",
    "\n",
    "Return the root node of a binary search tree that matches the given preorder traversal.\n",
    "\n",
    "(Recall that a binary search tree is a binary tree where for every node, any descendant of node.left has a value < node.val, and any descendant of node.right has a value > node.val.  Also recall that a preorder traversal displays the value of the node first, then traverses node.left, then traverses node.right.)\n",
    "\n",
    "It's guaranteed that for the given test cases there is always possible to find a binary search tree with the given requirements.\n",
    "\n",
    "Example 1:\n",
    "\n",
    "Input: [8,5,1,7,10,12]\n",
    "Output: [8,5,10,1,7,null,12]\n",
    "\n",
    " \n",
    "\n",
    "Constraints:\n",
    "\n",
    "    1 <= preorder.length <= 100\n",
    "    1 <= preorder[i] <= 10^8\n",
    "    The values of preorder are distinct.\n",
    "\n"
   ]
  },
  {
   "cell_type": "code",
   "execution_count": 200,
   "metadata": {},
   "outputs": [],
   "source": [
    "# Definition for a binary tree node.\n",
    "class TreeNode:\n",
    "    def __init__(self, x):\n",
    "        self.val = x\n",
    "        self.left = None\n",
    "        self.right = None\n",
    "\n",
    "def bstFromPreorder( preorder):\n",
    "    root = TreeNode(preorder[0])\n",
    "    stack = [root]\n",
    "    for value in preorder[1:]:\n",
    "        if value < stack[-1].val:\n",
    "            stack[-1].left = TreeNode(value)\n",
    "            stack.append(stack[-1].left)\n",
    "        else:\n",
    "            while stack and stack[-1].val < value:\n",
    "                last = stack.pop()\n",
    "            last.right = TreeNode(value)\n",
    "            stack.append(last.right)\n",
    "    return root"
   ]
  },
  {
   "cell_type": "code",
   "execution_count": 202,
   "metadata": {},
   "outputs": [],
   "source": [
    "answer = bstFromPreorder(preorder = [8, 5, 1, 7, 10, 12])"
   ]
  },
  {
   "cell_type": "code",
   "execution_count": 206,
   "metadata": {},
   "outputs": [
    {
     "data": {
      "text/plain": [
       "8"
      ]
     },
     "execution_count": 206,
     "metadata": {},
     "output_type": "execute_result"
    }
   ],
   "source": []
  },
  {
   "cell_type": "markdown",
   "metadata": {},
   "source": [
    "May 25th  Uncrossed Lines\n",
    "\n",
    "We write the integers of A and B (in the order they are given) on two separate horizontal lines.\n",
    "\n",
    "Now, we may draw connecting lines: a straight line connecting two numbers A[i] and B[j] such that:\n",
    "\n",
    "    A[i] == B[j];\n",
    "    The line we draw does not intersect any other connecting (non-horizontal) line.\n",
    "\n",
    "Note that a connecting lines cannot intersect even at the endpoints: each number can only belong to one connecting line.\n",
    "\n",
    "Return the maximum number of connecting lines we can draw in this way.\n",
    "\n",
    " \n",
    "\n",
    "Example 1:\n",
    "\n",
    "Input: A = [1,4,2], B = [1,2,4]\n",
    "Output: 2\n",
    "Explanation: We can draw 2 uncrossed lines as in the diagram.\n",
    "We cannot draw 3 uncrossed lines, because the line from A[1]=4 to B[2]=4 will intersect the line from A[2]=2 to B[1]=2.\n",
    "\n",
    "Example 2:\n",
    "\n",
    "Input: A = [2,5,1,2,5], B = [10,5,2,1,5,2]\n",
    "Output: 3\n",
    "\n",
    "Example 3:\n",
    "\n",
    "Input: A = [1,3,7,1,7,5], B = [1,9,2,5,1]\n",
    "Output: 2\n",
    "\n",
    " \n",
    "\n",
    "Note:\n",
    "\n",
    "    1 <= A.length <= 500\n",
    "    1 <= B.length <= 500\n",
    "    1 <= A[i], B[i] <= 2000\n",
    "\n"
   ]
  },
  {
   "cell_type": "code",
   "execution_count": null,
   "metadata": {},
   "outputs": [],
   "source": [
    "class Solution:\n",
    "    def maxUncrossedLines(self, A: List[int], B: List[int]) -> int:\n",
    "\n",
    "        dp, m, n = collections.defaultdict(int), len(A), len(B)\n",
    "        for i in range(m):\n",
    "            for j in range(n):\n",
    "                dp[i, j] = max(dp[i - 1, j - 1] + (A[i] == B[j]), dp[i - 1, j], dp[i, j - 1])\n",
    "        return dp[m - 1, n - 1]"
   ]
  },
  {
   "cell_type": "markdown",
   "metadata": {},
   "source": [
    "May 26th  Contiguous Array\n",
    "\n",
    "Given a binary array, find the maximum length of a contiguous subarray with equal number of 0 and 1.\n",
    "\n",
    "Example 1:\n",
    "\n",
    "Input: [0,1]\n",
    "Output: 2\n",
    "Explanation: [0, 1] is the longest contiguous subarray with equal number of 0 and 1.\n",
    "\n",
    "Example 2:\n",
    "\n",
    "Input: [0,1,0]\n",
    "Output: 2\n",
    "Explanation: [0, 1] (or [1, 0]) is a longest contiguous subarray with equal number of 0 and 1.\n",
    "\n",
    "Note: The length of the given binary array will not exceed 50,000. "
   ]
  },
  {
   "cell_type": "code",
   "execution_count": null,
   "metadata": {},
   "outputs": [],
   "source": [
    "class Solution:\n",
    "    def findMaxLength(self, nums):\n",
    "        count = 0\n",
    "        max_length=0\n",
    "        table = {0: 0}\n",
    "        for index, num in enumerate(nums, 1):\n",
    "            if num == 0:\n",
    "                count -= 1\n",
    "            else:\n",
    "                count += 1\n",
    "            \n",
    "            if count in table:\n",
    "                max_length = max(max_length, index - table[count])\n",
    "            else:\n",
    "                table[count] = index\n",
    "        \n",
    "        return max_length"
   ]
  },
  {
   "cell_type": "markdown",
   "metadata": {},
   "source": [
    "  Possible Bipartition\n",
    "\n",
    "Given a set of N people (numbered 1, 2, ..., N), we would like to split everyone into two groups of any size.\n",
    "\n",
    "Each person may dislike some other people, and they should not go into the same group. \n",
    "\n",
    "Formally, if dislikes[i] = [a, b], it means it is not allowed to put the people numbered a and b into the same group.\n",
    "\n",
    "Return true if and only if it is possible to split everyone into two groups in this way.\n",
    "\n",
    " \n",
    "\n",
    "Example 1:\n",
    "\n",
    "Input: N = 4, dislikes = [[1,2],[1,3],[2,4]]\n",
    "Output: true\n",
    "Explanation: group1 [1,4], group2 [2,3]\n",
    "\n",
    "Example 2:\n",
    "\n",
    "Input: N = 3, dislikes = [[1,2],[1,3],[2,3]]\n",
    "Output: false\n",
    "\n",
    "Example 3:\n",
    "\n",
    "Input: N = 5, dislikes = [[1,2],[2,3],[3,4],[4,5],[1,5]]\n",
    "Output: false\n",
    "\n",
    " \n",
    "\n",
    "Constraints:\n",
    "\n",
    "    1 <= N <= 2000\n",
    "    0 <= dislikes.length <= 10000\n",
    "    dislikes[i].length == 2\n",
    "    1 <= dislikes[i][j] <= N\n",
    "    dislikes[i][0] < dislikes[i][1]\n",
    "    There does not exist i != j for which dislikes[i] == dislikes[j].\n",
    "\n"
   ]
  },
  {
   "cell_type": "code",
   "execution_count": null,
   "metadata": {},
   "outputs": [],
   "source": [
    "class Solution:\n",
    "    def possibleBipartition(self, N: int, dislikes: List[List[int]]) -> bool:\n",
    "        \n",
    "        # Constant defined for color drawing to person\n",
    "        NOT_COLORED, BLUE, GREEN = 0, 1, -1\n",
    "        \n",
    "        # -------------------------------------\n",
    "        \n",
    "        def helper( person_id, color ):\n",
    "            \n",
    "            # Draw person_id as color\n",
    "            color_table[person_id] = color\n",
    "            \n",
    "            # Draw the_other, with opposite color, in dislike table of current person_id\n",
    "            for the_other in dislike_table[ person_id ]:\n",
    "   \n",
    "                if color_table[the_other] == color:\n",
    "                    # the_other has the same color of current person_id\n",
    "                    # Reject due to breaking the relationship of dislike\n",
    "                    return False\n",
    "\n",
    "                if color_table[the_other] == NOT_COLORED and (not helper( the_other, -color)):\n",
    "                    # Other people can not be colored with two different colors. \n",
    "\t\t\t\t\t# Therefore, it is impossible to keep dis-like relationship with bipartition.\n",
    "                    return False\n",
    "                    \n",
    "            return True\n",
    "        \n",
    "        \n",
    "        # ------------------------------------------------\n",
    "\t\t\n",
    "\t\t\n",
    "        if N == 1 or not dislikes:\n",
    "            # Quick response for simple cases\n",
    "            return True\n",
    "        \n",
    "        \n",
    "        # each person maintain a list of dislike\n",
    "        dislike_table = collections.defaultdict( list )\n",
    "        \n",
    "        # cell_#0 is dummy just for the convenience of indexing from 1 to N\n",
    "        color_table = [ NOT_COLORED for _ in range(N+1) ]\n",
    "        \n",
    "        for p1, p2 in dislikes:\n",
    "            \n",
    "            # P1 and P2 dislike each other\n",
    "            dislike_table[p1].append( p2 )\n",
    "            dislike_table[p2].append( p1 )\n",
    "            \n",
    "        \n",
    "        # Try to draw dislike pair with different colors in DFS\n",
    "        for person_id in range(1, N+1):\n",
    "            \n",
    "            if color_table[person_id] == NOT_COLORED and (not helper( person_id, BLUE)):\n",
    "                # Other people can not be colored with two different colors. \n",
    "\t\t\t\t# Therefore, it is impossible to keep dis-like relationship with bipartition.\n",
    "                return False \n",
    "        \n",
    "        return True\n"
   ]
  },
  {
   "cell_type": "markdown",
   "metadata": {},
   "source": [
    "May 28th Counting Bits\n",
    "\n",
    "Given a non negative integer number num. For every numbers i in the range 0 ≤ i ≤ num calculate the number of 1's in their binary representation and return them as an array.\n",
    "\n",
    "Example 1:\n",
    "\n",
    "Input: 2\n",
    "Output: [0,1,1]\n",
    "\n",
    "Example 2:\n",
    "\n",
    "Input: 5\n",
    "Output: [0,1,1,2,1,2]\n",
    "\n",
    "Follow up:\n",
    "\n",
    "    It is very easy to come up with a solution with run time O(n*sizeof(integer)). But can you do it in linear time O(n) /possibly in a single pass?\n",
    "    Space complexity should be O(n).\n",
    "    Can you do it like a boss? Do it without using any builtin function like __builtin_popcount in c++ or in any other language.\n"
   ]
  },
  {
   "cell_type": "code",
   "execution_count": null,
   "metadata": {},
   "outputs": [],
   "source": [
    "class Solution:\n",
    "    def countBits(self, num: int) -> List[int]:\n",
    "        \n",
    "        iniArr = [0]\n",
    "        if num > 0:\n",
    "            amountToAdd = 1\n",
    "            while len(iniArr) < num + 1:\n",
    "                iniArr.extend([x+1 for x in iniArr])\n",
    "        \n",
    "        return iniArr[0:num+1]"
   ]
  },
  {
   "cell_type": "code",
   "execution_count": null,
   "metadata": {},
   "outputs": [],
   "source": [
    "#an easy version of above solution\n",
    "class Solution(object):\n",
    "    def countBits(self, num):\n",
    "        \"\"\"\n",
    "        :type num: int\n",
    "        :rtype: List[int]\n",
    "        \"\"\"\n",
    "        res = [0]\n",
    "        while len(res) <= num:\n",
    "            res += [i+1 for i in res]\n",
    "        return res[:num+1]"
   ]
  },
  {
   "cell_type": "code",
   "execution_count": 175,
   "metadata": {},
   "outputs": [
    {
     "data": {
      "text/plain": [
       "[[1, 2], [8, 10], [15, 23], [25, 25], [25, 25]]"
      ]
     },
     "execution_count": 175,
     "metadata": {},
     "output_type": "execute_result"
    }
   ],
   "source": [
    "longrange"
   ]
  },
  {
   "cell_type": "code",
   "execution_count": 175,
   "metadata": {},
   "outputs": [
    {
     "data": {
      "text/plain": [
       "[[1, 2], [8, 10], [15, 23], [25, 25], [25, 25]]"
      ]
     },
     "execution_count": 175,
     "metadata": {},
     "output_type": "execute_result"
    }
   ],
   "source": [
    "longrange"
   ]
  },
  {
   "cell_type": "markdown",
   "metadata": {},
   "source": [
    "  Course Schedule\n",
    "\n",
    "There are a total of numCourses courses you have to take, labeled from 0 to numCourses-1.\n",
    "\n",
    "Some courses may have prerequisites, for example to take course 0 you have to first take course 1, which is expressed as a pair: [0,1]\n",
    "\n",
    "Given the total number of courses and a list of prerequisite pairs, is it possible for you to finish all courses?\n",
    "\n",
    " \n",
    "\n",
    "Example 1:\n",
    "\n",
    "Input: numCourses = 2, prerequisites = [[1,0]]\n",
    "Output: true\n",
    "Explanation: There are a total of 2 courses to take. \n",
    "             To take course 1 you should have finished course 0. So it is possible.\n",
    "\n",
    "Example 2:\n",
    "\n",
    "Input: numCourses = 2, prerequisites = [[1,0],[0,1]]\n",
    "Output: false\n",
    "Explanation: There are a total of 2 courses to take. \n",
    "             To take course 1 you should have finished course 0, and to take course 0 you should\n",
    "             also have finished course 1. So it is impossible.\n",
    "\n",
    " \n",
    "\n",
    "Constraints:\n",
    "\n",
    "    The input prerequisites is a graph represented by a list of edges, not adjacency matrices. Read more about how a graph is represented.\n",
    "    You may assume that there are no duplicate edges in the input prerequisites.\n",
    "    1 <= numCourses <= 10^5\n",
    "\n",
    "   Hide Hint #1  \n",
    "This problem is equivalent to finding if a cycle exists in a directed graph. If a cycle exists, no topological ordering exists and therefore it will be impossible to take all courses.\n",
    "   Hide Hint #2  \n",
    "Topological Sort via DFS - A great video tutorial (21 minutes) on Coursera explaining the basic concepts of Topological Sort.\n",
    "   Hide Hint #3  \n",
    "Topological sort could also be done via BFS."
   ]
  },
  {
   "cell_type": "code",
   "execution_count": 245,
   "metadata": {},
   "outputs": [],
   "source": [
    "def canFinish(n, prerequisites):\n",
    "    print('set degree and G')\n",
    "    G = [[] for i in range(n)]\n",
    "    degree = [0] * n\n",
    "    print('first step')\n",
    "    for j, i in prerequisites:\n",
    "        print(j,i)\n",
    "        G[i].append(j)\n",
    "        degree[j] += 1\n",
    "    print(G)\n",
    "    print(degree)\n",
    "    print('second step')\n",
    "    bfs = [i for i in range(n) if degree[i] == 0]\n",
    "    #group 0 degree people together\n",
    "\n",
    "    print(bfs)\n",
    "    print(G)\n",
    "    for i in bfs:\n",
    "        for j in G[i]:\n",
    "            print(G[i])\n",
    "            degree[j] -= 1\n",
    "            if degree[j] == 0:\n",
    "                bfs.append(j)\n",
    "    print(bfs)\n",
    "    return len(bfs) == n"
   ]
  },
  {
   "cell_type": "code",
   "execution_count": 247,
   "metadata": {},
   "outputs": [
    {
     "name": "stdout",
     "output_type": "stream",
     "text": [
      "set degree and G\n",
      "first step\n",
      "1 0\n",
      "2 3\n",
      "9 7\n",
      "7 9\n",
      "[[1], [], [], [2], [], [], [], [9], [], [7]]\n",
      "[0, 1, 1, 0, 0, 0, 0, 1, 0, 1]\n",
      "second step\n",
      "[0, 3, 4, 5, 6, 8]\n",
      "[[1], [], [], [2], [], [], [], [9], [], [7]]\n",
      "[1]\n",
      "[2]\n",
      "[0, 3, 4, 5, 6, 8, 1, 2]\n"
     ]
    },
    {
     "data": {
      "text/plain": [
       "False"
      ]
     },
     "execution_count": 247,
     "metadata": {},
     "output_type": "execute_result"
    }
   ],
   "source": [
    "canFinish(10,[[1,0],[2,3],[9,7],[7,9]])"
   ]
  },
  {
   "cell_type": "code",
   "execution_count": 250,
   "metadata": {},
   "outputs": [
    {
     "name": "stdout",
     "output_type": "stream",
     "text": [
      "set degree and G\n",
      "first step\n",
      "1 0\n"
     ]
    },
    {
     "ename": "IndexError",
     "evalue": "list index out of range",
     "output_type": "error",
     "traceback": [
      "\u001b[0;31m---------------------------------------------------------------------------\u001b[0m",
      "\u001b[0;31mIndexError\u001b[0m                                Traceback (most recent call last)",
      "\u001b[0;32m<ipython-input-250-52e8d6533f6a>\u001b[0m in \u001b[0;36m<module>\u001b[0;34m\u001b[0m\n\u001b[0;32m----> 1\u001b[0;31m \u001b[0mcanFinish\u001b[0m\u001b[0;34m(\u001b[0m\u001b[0;36m1\u001b[0m\u001b[0;34m,\u001b[0m\u001b[0;34m[\u001b[0m\u001b[0;34m[\u001b[0m\u001b[0;36m1\u001b[0m\u001b[0;34m,\u001b[0m\u001b[0;36m0\u001b[0m\u001b[0;34m]\u001b[0m\u001b[0;34m,\u001b[0m\u001b[0;34m[\u001b[0m\u001b[0;36m2\u001b[0m\u001b[0;34m,\u001b[0m\u001b[0;36m3\u001b[0m\u001b[0;34m]\u001b[0m\u001b[0;34m,\u001b[0m\u001b[0;34m[\u001b[0m\u001b[0;36m9\u001b[0m\u001b[0;34m,\u001b[0m\u001b[0;36m7\u001b[0m\u001b[0;34m]\u001b[0m\u001b[0;34m,\u001b[0m\u001b[0;34m[\u001b[0m\u001b[0;36m2\u001b[0m\u001b[0;34m,\u001b[0m\u001b[0;36m4\u001b[0m\u001b[0;34m]\u001b[0m\u001b[0;34m]\u001b[0m\u001b[0;34m)\u001b[0m\u001b[0;34m\u001b[0m\u001b[0;34m\u001b[0m\u001b[0m\n\u001b[0m",
      "\u001b[0;32m<ipython-input-245-e0995bf07318>\u001b[0m in \u001b[0;36mcanFinish\u001b[0;34m(n, prerequisites)\u001b[0m\n\u001b[1;32m      7\u001b[0m         \u001b[0mprint\u001b[0m\u001b[0;34m(\u001b[0m\u001b[0mj\u001b[0m\u001b[0;34m,\u001b[0m\u001b[0mi\u001b[0m\u001b[0;34m)\u001b[0m\u001b[0;34m\u001b[0m\u001b[0;34m\u001b[0m\u001b[0m\n\u001b[1;32m      8\u001b[0m         \u001b[0mG\u001b[0m\u001b[0;34m[\u001b[0m\u001b[0mi\u001b[0m\u001b[0;34m]\u001b[0m\u001b[0;34m.\u001b[0m\u001b[0mappend\u001b[0m\u001b[0;34m(\u001b[0m\u001b[0mj\u001b[0m\u001b[0;34m)\u001b[0m\u001b[0;34m\u001b[0m\u001b[0;34m\u001b[0m\u001b[0m\n\u001b[0;32m----> 9\u001b[0;31m         \u001b[0mdegree\u001b[0m\u001b[0;34m[\u001b[0m\u001b[0mj\u001b[0m\u001b[0;34m]\u001b[0m \u001b[0;34m+=\u001b[0m \u001b[0;36m1\u001b[0m\u001b[0;34m\u001b[0m\u001b[0;34m\u001b[0m\u001b[0m\n\u001b[0m\u001b[1;32m     10\u001b[0m     \u001b[0mprint\u001b[0m\u001b[0;34m(\u001b[0m\u001b[0mG\u001b[0m\u001b[0;34m)\u001b[0m\u001b[0;34m\u001b[0m\u001b[0;34m\u001b[0m\u001b[0m\n\u001b[1;32m     11\u001b[0m     \u001b[0mprint\u001b[0m\u001b[0;34m(\u001b[0m\u001b[0mdegree\u001b[0m\u001b[0;34m)\u001b[0m\u001b[0;34m\u001b[0m\u001b[0;34m\u001b[0m\u001b[0m\n",
      "\u001b[0;31mIndexError\u001b[0m: list index out of range"
     ]
    }
   ],
   "source": [
    "canFinish(1,[[1,0],[2,3],[9,7],[2,4]])"
   ]
  },
  {
   "cell_type": "markdown",
   "metadata": {},
   "source": []
  },
  {
   "cell_type": "code",
   "execution_count": 258,
   "metadata": {},
   "outputs": [],
   "source": [
    "def kClosest(self, points, K):\n",
    "    return heapq.nsmallest(K, points,lambda x, y: x * x + y * y)\n",
    "#this only works on python2"
   ]
  },
  {
   "cell_type": "code",
   "execution_count": 260,
   "metadata": {},
   "outputs": [],
   "source": [
    "def kClosest(points,K):\n",
    "    return heapq.nsmallest(K, points, lambda x: x[0] * x[0] + x[1] * x[1])"
   ]
  },
  {
   "cell_type": "code",
   "execution_count": 261,
   "metadata": {},
   "outputs": [],
   "source": [
    "#this one is more faster\n",
    "def kClosest(points,K):\n",
    "        answer = sorted(points, key = lambda x : x[0]**2+x[1]**2 )\n",
    "        return answer[:K]"
   ]
  },
  {
   "cell_type": "markdown",
   "metadata": {},
   "source": [
    "HARD  Edit Distance\n",
    "\n",
    "Given two words word1 and word2, find the minimum number of operations required to convert word1 to word2.\n",
    "\n",
    "You have the following 3 operations permitted on a word:\n",
    "\n",
    "    Insert a character\n",
    "    Delete a character\n",
    "    Replace a character\n",
    "\n",
    "Example 1:\n",
    "\n",
    "Input: word1 = \"horse\", word2 = \"ros\"\n",
    "Output: 3\n",
    "Explanation: \n",
    "horse -> rorse (replace 'h' with 'r')\n",
    "rorse -> rose (remove 'r')\n",
    "rose -> ros (remove 'e')\n",
    "\n",
    "Example 2:\n",
    "\n",
    "Input: word1 = \"intention\", word2 = \"execution\"\n",
    "Output: 5\n",
    "Explanation: \n",
    "intention -> inention (remove 't')\n",
    "inention -> enention (replace 'i' with 'e')\n",
    "enention -> exention (replace 'n' with 'x')\n",
    "exention -> exection (replace 'n' with 'c')\n",
    "exection -> execution (insert 'u')\n",
    "\n"
   ]
  },
  {
   "cell_type": "code",
   "execution_count": 266,
   "metadata": {},
   "outputs": [],
   "source": [
    "\n",
    "def minDistance(word1: str, word2: str):\n",
    "    \"\"\"Naive recursive solution\"\"\"\n",
    "    if not word1 and not word2:\n",
    "        return 0\n",
    "    if not word1:\n",
    "        return len(word2)\n",
    "    if not word2:\n",
    "        return len(word1)\n",
    "    if word1[0] == word2[0]:\n",
    "        return minDistance(word1[1:], word2[1:])\n",
    "    insert = 1 + minDistance(word1, word2[1:])\n",
    "    delete = 1 + minDistance(word1[1:], word2)\n",
    "    replace = 1 + minDistance(word1[1:], word2[1:])\n",
    "    return min(insert, replace, delete)\n",
    "#this one work but will get LTE"
   ]
  },
  {
   "cell_type": "code",
   "execution_count": 276,
   "metadata": {},
   "outputs": [],
   "source": [
    "#advanced\n",
    "def minDistance(word1, word2):\n",
    "    \"\"\"Dynamic programming solution\"\"\"\n",
    "    m = len(word1)\n",
    "    n = len(word2)\n",
    "    table = [[0] * (n + 1) for _ in range(m + 1)]\n",
    "    print(table)\n",
    "    for i in range(m + 1):\n",
    "        table[i][0] = i\n",
    "    print(table)\n",
    "    for j in range(n + 1):\n",
    "        table[0][j] = j\n",
    "    print(table)\n",
    "    for i in range(1, m + 1):\n",
    "        for j in range(1, n + 1):\n",
    "            if word1[i - 1] == word2[j - 1]:\n",
    "                table[i][j] = table[i - 1][j - 1]\n",
    "            else:\n",
    "                table[i][j] = 1 + min(table[i - 1][j], table[i][j - 1], table[i - 1][j - 1])\n",
    "    print(table)\n",
    "    return table[-1][-1]"
   ]
  },
  {
   "cell_type": "code",
   "execution_count": 307,
   "metadata": {},
   "outputs": [],
   "source": [
    "#third solution\n",
    "def minDistance(word1, word2,cache ={}):\n",
    "    if not word1 and not word2:\n",
    "        return 0\n",
    "    if not len(word1)   or not len(word2):\n",
    "        return len(word1) or len(word2)\n",
    "    if word1[0]==word2[0]:\n",
    "        return minDistance(word1[1:],word2[1:])\n",
    "    if (word1,word2) not in cache:\n",
    "        inserted = 1+ minDistance(word1,word2[1:])\n",
    "        deleted  = 1+ minDistance(word1[1:],word2)\n",
    "        replaced = 1+ minDistance(word1[1:],word2[1:])\n",
    "        cache[(word1,word2)]= min(inserted,deleted,replaced)\n",
    "        print(cache)\n",
    "    return cache[(word1,word2)]"
   ]
  },
  {
   "cell_type": "code",
   "execution_count": 308,
   "metadata": {},
   "outputs": [
    {
     "name": "stdout",
     "output_type": "stream",
     "text": [
      "{('e', 'se'): 1}\n",
      "{('e', 'se'): 1, ('e', 'use'): 2}\n",
      "{('e', 'se'): 1, ('e', 'use'): 2, ('e', 'ouse'): 3}\n",
      "{('e', 'se'): 1, ('e', 'use'): 2, ('e', 'ouse'): 3, ('e', 'house'): 4}\n",
      "{('e', 'se'): 1, ('e', 'use'): 2, ('e', 'ouse'): 3, ('e', 'house'): 4, ('oe', 'house'): 3}\n",
      "{('e', 'se'): 1, ('e', 'use'): 2, ('e', 'ouse'): 3, ('e', 'house'): 4, ('oe', 'house'): 3, ('o', 'a'): 1}\n",
      "{('e', 'se'): 1, ('e', 'use'): 2, ('e', 'ouse'): 3, ('e', 'house'): 4, ('oe', 'house'): 3, ('o', 'a'): 1, ('bo', 'a'): 2}\n",
      "{('e', 'se'): 1, ('e', 'use'): 2, ('e', 'ouse'): 3, ('e', 'house'): 4, ('oe', 'house'): 3, ('o', 'a'): 1, ('bo', 'a'): 2, ('bo', 'oa'): 2}\n"
     ]
    },
    {
     "data": {
      "text/plain": [
       "2"
      ]
     },
     "execution_count": 308,
     "metadata": {},
     "output_type": "execute_result"
    }
   ],
   "source": [
    "minDistance('oe','house')\n",
    "minDistance('bo','oa')"
   ]
  },
  {
   "cell_type": "markdown",
   "metadata": {},
   "source": [
    "#below is an explaination of the solution\n",
    "Python solutions and intuition\n",
    "494\n",
    "anderson5's avatar\n",
    "anderson5\n",
    "522\n",
    "\n",
    "Last Edit: October 26, 2018 12:44 PM\n",
    "\n",
    "13.4K VIEWS\n",
    "\n",
    "For those having difficulty cracking dynamic programming solutions, I find it easiest to solve by first starting with a naive, but working recursive implementation. It's essential to do so, because dynamic programming is basically recursion with caching. With this workflow, deciphering dynamic programming problems becomes just a little more manageable for us normal people. :)\n",
    "\n",
    "Thought process:\n",
    "Given two strings, we're tasked with finding the minimum number of transformations we need to make to arrive with equivalent strings. From the get-go, there doesn't seem to be any way around trying all possibilities, and in this, possibilities refers to inserting, deleting, or replacing a character. Recursion is usually a good choice for trying all possilbilities.\n",
    "\n",
    "Whenever we write recursive functions, we'll need some way to terminate, or else we'll end up overflowing the stack via infinite recursion. With strings, the natural state to keep track of is the index. We'll need two indexes, one for word1 and one for word2. Now we just need to handle our base cases, and recursive cases.\n",
    "What happens when we're done with either word? Some thought will tell you that the minimum number of transformations is simply to insert the rest of the other word. This is our base case. What about when we're not done with either string? We'll either match the currently indexed characters in both strings, or mismatch. In the first case, we don't incur any penalty, and we can continue to compare the rest of the strings by recursing on the rest of both strings. In the case of a mismatch, we either insert, delete, or replace. To recap:\n",
    "\n",
    "    base case: word1 = \"\" or word2 = \"\" => return length of other string\n",
    "    recursive case: word1[0] == word2[0] => recurse on word1[1:] and word2[1:]\n",
    "    recursive case: word1[0] != word2[0] => recurse by inserting, deleting, or replacing\n",
    "\n",
    "And in Python:\n",
    "\n",
    "class Solution:\n",
    "    def minDistance(self, word1, word2):\n",
    "        \"\"\"Naive recursive solution\"\"\"\n",
    "        if not word1 and not word2:\n",
    "            return 0\n",
    "        if not word1:\n",
    "            return len(word2)\n",
    "        if not word2:\n",
    "            return len(word1)\n",
    "        if word1[0] == word2[0]:\n",
    "            return self.minDistance(word1[1:], word2[1:])\n",
    "        insert = 1 + self.minDistance(word1, word2[1:])\n",
    "        delete = 1 + self.minDistance(word1[1:], word2)\n",
    "        replace = 1 + self.minDistance(word1[1:], word2[1:])\n",
    "        return min(insert, replace, delete)\n",
    "\n",
    "With a solution in hand, we're ecstatic and we go to submit our code. All is well until we see the dreaded red text... TIME LIMIT EXCEEDED. What did we do wrong? Let's look at a simple example, and for sake of brevity I'll annotate the minDistance function as md.\n",
    "\n",
    "word1 = \"horse\"\n",
    "word2 = \"hello\"\n",
    "\n",
    "The tree of recursive calls, 3 levels deep, looks like the following. I've highlighted recursive calls with multiple invocations. So now we see that we're repeating work. I'm not going to try and analyze the runtime of this solution, but it's exponential.\n",
    "\n",
    "md(\"horse\", \"hello\")\n",
    "\tmd(\"orse\", \"ello\")\n",
    "\t\tmd(\"orse\", \"llo\")\n",
    "\t\t\tmd(\"orse\", \"lo\")\n",
    "\t\t\tmd(\"rse\", \"llo\") <- \n",
    "\t\t\tmd(\"rse\", \"lo\")\n",
    "\t\tmd(\"rse\", \"ello\")\n",
    "\t\t\tmd(\"rse\", \"llo\") <-\n",
    "\t\t\tmd(\"se\", \"ello\")\n",
    "\t\t\tmd(\"se\", \"llo\") <<-\n",
    "\t\tmd(\"rse\", \"llo\")\n",
    "\t\t\tmd(\"rse\", \"llo\") <-\n",
    "\t\t\tmd(\"se\", \"llo\") <<-\n",
    "\t\t\tmd(\"se\", \"lo\")\n",
    "\n",
    "The way we fix this is by caching. We save intermediate computations in a dictionary and if we recur on the same subproblem, instead of doing the same work again, we return the saved value. Here is the memoized solution, where we build from bigger subproblems to smaller subproblems (top-down).\n",
    "\n",
    "class Solution:\n",
    "    def minDistance(self, word1, word2, i, j, memo):\n",
    "        \"\"\"Memoized solution\"\"\"\n",
    "        if i == len(word1) and j == len(word2):\n",
    "            return 0\n",
    "        if i == len(word1):\n",
    "            return len(word2) - j\n",
    "        if j == len(word2):\n",
    "            return len(word1) - i\n",
    "\n",
    "        if (i, j) not in memo:\n",
    "            if word1[i] == word2[j]:\n",
    "                ans = self.minDistance2(word1, word2, i + 1, j + 1, memo)\n",
    "            else: \n",
    "                insert = 1 + self.minDistance2(word1, word2, i, j + 1, memo)\n",
    "                delete = 1 + self.minDistance2(word1, word2, i + 1, j, memo)\n",
    "                replace = 1 + self.minDistance2(word1, word2, i + 1, j + 1, memo)\n",
    "                ans = min(insert, delete, replace)\n",
    "            memo[(i, j)] = ans\n",
    "        return memo[(i, j)]\n",
    "\n",
    "Of course, an interative implementation is usually better than its recursive counterpart because we don't risk blowing up our stack in case the number of recursive calls is very deep. We can also use a 2D array to do essentially the same thing as the dictionary of cached values. When we do this, we build up solutions from smaller subproblems to bigger subproblems (bottom-up). In this case, since we are no longer \"recurring\" in the traditional sense, we initialize our 2D table with base constraints. The first row and column of the table has known values since if one string is empty, we simply add the length of the non-empty string since that is the minimum number of edits necessary to arrive at equivalent strings. For both the memoized and dynamic programming solutions, the runtime is O(mn) and the space complexity is O(mn) where m and n are the lengths of word1 and word2, respectively.\n",
    "\n",
    "class Solution:\n",
    "    def minDistance(self, word1, word2):\n",
    "        \"\"\"Dynamic programming solution\"\"\"\n",
    "        m = len(word1)\n",
    "        n = len(word2)\n",
    "        table = [[0] * (n + 1) for _ in range(m + 1)]\n",
    "\n",
    "        for i in range(m + 1):\n",
    "            table[i][0] = i\n",
    "        for j in range(n + 1):\n",
    "            table[0][j] = j\n",
    "\n",
    "        for i in range(1, m + 1):\n",
    "            for j in range(1, n + 1):\n",
    "                if word1[i - 1] == word2[j - 1]:\n",
    "                    table[i][j] = table[i - 1][j - 1]\n",
    "                else:\n",
    "                    table[i][j] = 1 + min(table[i - 1][j], table[i][j - 1], table[i - 1][j - 1])\n",
    "        return table[-1][-1]\n"
   ]
  },
  {
   "cell_type": "code",
   "execution_count": 310,
   "metadata": {},
   "outputs": [],
   "source": [
    "def minDistance(word1,word2):\n",
    "    if not word1 and not word2:\n",
    "        return 0\n",
    "    if not len(word1)   or not len(word2):\n",
    "        return len(word1) or len(word2)\n",
    "    if word1[0] == word2[0]:\n",
    "        return minDistance(word1[1:],word2[1:])\n",
    "    else:\n",
    "        delete = 1+minDistance(word1[1:],word2)\n",
    "        replace = 1+minDistance(word1[1:],word2[1:])\n",
    "        incert = 1+minDistance(word1,word2[1:])\n",
    "    return min(delete,replace,incert)"
   ]
  },
  {
   "cell_type": "code",
   "execution_count": 311,
   "metadata": {},
   "outputs": [
    {
     "data": {
      "text/plain": [
       "3"
      ]
     },
     "execution_count": 311,
     "metadata": {},
     "output_type": "execute_result"
    }
   ],
   "source": [
    "minDistance('horse','oe')"
   ]
  },
  {
   "cell_type": "markdown",
   "metadata": {},
   "source": [
    "JUNE 1st  Invert Binary Tree\n",
    "\n",
    "Invert a binary tree.\n",
    "\n",
    "Example:\n",
    "\n",
    "Input:\n",
    "\n",
    "     4\n",
    "   /   \\\n",
    "  2     7\n",
    " / \\   / \\\n",
    "1   3 6   9\n",
    "\n",
    "Output:\n",
    "\n",
    "     4\n",
    "   /   \\\n",
    "  7     2\n",
    " / \\   / \\\n",
    "9   6 3   1\n",
    "\n",
    "Trivia:\n",
    "This problem was inspired by this original tweet by Max Howell:\n",
    "\n",
    "    Google: 90% of our engineers use the software you wrote (Homebrew), but you can’t invert a binary tree on a whiteboard so f*** off.\n",
    "\n"
   ]
  },
  {
   "cell_type": "code",
   "execution_count": null,
   "metadata": {},
   "outputs": [],
   "source": [
    "# Definition for a binary tree node.\n",
    "# class TreeNode:\n",
    "#     def __init__(self, val=0, left=None, right=None):\n",
    "#         self.val = val\n",
    "#         self.left = left\n",
    "#         self.right = right\n",
    "class Solution:\n",
    "    def invertTree(self, root: TreeNode) -> TreeNode:\n",
    "        if not root:\n",
    "            return root\n",
    "        root.left, root.right = root.right, root.left\n",
    "        self.invertTree(root.left)\n",
    "        self.invertTree(root.right)\n",
    "        return root\n"
   ]
  },
  {
   "cell_type": "code",
   "execution_count": null,
   "metadata": {},
   "outputs": [],
   "source": [
    "#solution 2\n",
    "class Solution:\n",
    "    def invertTree(self, root: TreeNode) -> TreeNode:\n",
    "        \n",
    "        if root:\n",
    "            root.left, root.right = self.invertTree(root.right), self.invertTree(root.left)\n",
    "            return root\n",
    "        \n",
    "#this solution is more clever that you combined two steps together:\n",
    "#1>. switch two branches\n",
    "#2>. recurrssive. "
   ]
  },
  {
   "cell_type": "markdown",
   "metadata": {},
   "source": [
    "JUNE 2rd Delete Node in a Linked List\n",
    "\n",
    "Write a function to delete a node (except the tail) in a singly linked list, given only access to that node.\n",
    "\n",
    "Given linked list -- head = [4,5,1,9], which looks like following:\n",
    "\n",
    " \n",
    "\n",
    "Example 1:\n",
    "\n",
    "Input: head = [4,5,1,9], node = 5\n",
    "Output: [4,1,9]\n",
    "Explanation: You are given the second node with value 5, the linked list should become 4 -> 1 -> 9 after calling your function.\n",
    "\n",
    "Example 2:\n",
    "\n",
    "Input: head = [4,5,1,9], node = 1\n",
    "Output: [4,5,9]\n",
    "Explanation: You are given the third node with value 1, the linked list should become 4 -> 5 -> 9 after calling your function.\n",
    "\n",
    " \n",
    "\n",
    "Note:\n",
    "\n",
    "    The linked list will have at least two elements.\n",
    "    All of the nodes' values will be unique.\n",
    "    The given node will not be the tail and it will always be a valid node of the linked list.\n",
    "    Do not return anything from your function.\n",
    "\n"
   ]
  },
  {
   "cell_type": "code",
   "execution_count": null,
   "metadata": {},
   "outputs": [],
   "source": [
    "# Definition for singly-linked list.\n",
    "# class ListNode:\n",
    "#     def __init__(self, x):\n",
    "#         self.val = x\n",
    "#         self.next = None\n",
    "\n",
    "class Solution:\n",
    "    def deleteNode(self, node):\n",
    "        \"\"\"\n",
    "        :type node: ListNode\n",
    "        :rtype: void Do not return anything, modify node in-place instead.\n",
    "        \"\"\"\n",
    "        node.val = node.next.val\n",
    "        node.next = node.next.next\n",
    "\n",
    "\n",
    "#this is a pretty weird question...just remember it"
   ]
  },
  {
   "cell_type": "markdown",
   "metadata": {},
   "source": [
    "JUNE 3rd\n",
    "  Two City Scheduling\n",
    "\n",
    "There are 2N people a company is planning to interview. The cost of flying the i-th person to city A is costs[i][0], and the cost of flying the i-th person to city B is costs[i][1].\n",
    "\n",
    "Return the minimum cost to fly every person to a city such that exactly N people arrive in each city.\n",
    "\n",
    " \n",
    "\n",
    "Example 1:\n",
    "\n",
    "Input: [[10,20],[30,200],[400,50],[30,20]]\n",
    "Output: 110\n",
    "Explanation: \n",
    "The first person goes to city A for a cost of 10.\n",
    "The second person goes to city A for a cost of 30.\n",
    "The third person goes to city B for a cost of 50.\n",
    "The fourth person goes to city B for a cost of 20.\n",
    "\n",
    "The total minimum cost is 10 + 30 + 50 + 20 = 110 to have half the people interviewing in each city.\n",
    "\n",
    " \n",
    "\n",
    "Note:\n",
    "\n",
    "    1 <= costs.length <= 100\n",
    "    It is guaranteed that costs.length is even.\n",
    "    1 <= costs[i][0], costs[i][1] <= 1000\n"
   ]
  },
  {
   "cell_type": "code",
   "execution_count": null,
   "metadata": {},
   "outputs": [],
   "source": [
    "\n",
    "def twoCitySchedCost(self, costs: List[List[int]]) -> int:\n",
    "    costA=[]\n",
    "    costB=[]\n",
    "    for i in range(len(costs)) :\n",
    "        costA.append(costs[i][0])\n",
    "        costB.append(costs[i][1])\n",
    "\n",
    "\n",
    "    return (costA).sort\n"
   ]
  },
  {
   "cell_type": "code",
   "execution_count": 338,
   "metadata": {},
   "outputs": [],
   "source": [
    "costA=[1,4,3,3,4,9]"
   ]
  },
  {
   "cell_type": "markdown",
   "metadata": {},
   "source": [
    "JUNE 4th  Reverse String\n",
    "\n",
    "Write a function that reverses a string. The input string is given as an array of characters char[].\n",
    "\n",
    "Do not allocate extra space for another array, you must do this by modifying the input array in-place with O(1) extra memory.\n",
    "\n",
    "You may assume all the characters consist of printable ascii characters.\n",
    "\n",
    " \n",
    "\n",
    "Example 1:\n",
    "\n",
    "Input: [\"h\",\"e\",\"l\",\"l\",\"o\"]\n",
    "Output: [\"o\",\"l\",\"l\",\"e\",\"h\"]\n",
    "\n",
    "Example 2:\n",
    "\n",
    "Input: [\"H\",\"a\",\"n\",\"n\",\"a\",\"h\"]\n",
    "Output: [\"h\",\"a\",\"n\",\"n\",\"a\",\"H\"]\n",
    "\n"
   ]
  },
  {
   "cell_type": "code",
   "execution_count": null,
   "metadata": {},
   "outputs": [],
   "source": [
    "#there are three solutions\n",
    "#no.1\n",
    "s.reverse()\n",
    "#no.2\n",
    "s[::-1]\n",
    "#no.3\n",
    "class Solution:\n",
    "    def reverseString(self, s):\n",
    "        left, right = 0, len(s) - 1\n",
    "        while left < right:\n",
    "            s[left], s[right] = s[right], s[left]\n",
    "            left, right = left + 1, right - 1"
   ]
  },
  {
   "cell_type": "markdown",
   "metadata": {},
   "source": [
    "JUNE 5th  Random Pick with Weight\n",
    "\n",
    "Given an array w of positive integers, where w[i] describes the weight of index i, write a function pickIndex which randomly picks an index in proportion to its weight.\n",
    "\n",
    "Note:\n",
    "\n",
    "    1 <= w.length <= 10000\n",
    "    1 <= w[i] <= 10^5\n",
    "    pickIndex will be called at most 10000 times.\n",
    "\n",
    "Example 1:\n",
    "\n",
    "Input: \n",
    "[\"Solution\",\"pickIndex\"]\n",
    "[[[1]],[]]\n",
    "Output: [null,0]\n",
    "\n",
    "Example 2:\n",
    "\n",
    "Input: \n",
    "[\"Solution\",\"pickIndex\",\"pickIndex\",\"pickIndex\",\"pickIndex\",\"pickIndex\"]\n",
    "[[[1,3]],[],[],[],[],[]]\n",
    "Output: [null,0,1,1,1,0]\n",
    "\n",
    "Explanation of Input Syntax:\n",
    "\n",
    "The input is two lists: the subroutines called and their arguments. Solution's constructor has one argument, the array w. pickIndex has no arguments. Arguments are always wrapped with a list, even if there aren't any.\n"
   ]
  },
  {
   "cell_type": "code",
   "execution_count": 358,
   "metadata": {},
   "outputs": [],
   "source": []
  },
  {
   "cell_type": "markdown",
   "metadata": {},
   "source": [
    "JUNE 6th Queue Reconstruction by Height\n",
    "\n",
    "Suppose you have a random list of people standing in a queue. Each person is described by a pair of integers (h, k), where h is the height of the person and k is the number of people in front of this person who have a height greater than or equal to h. Write an algorithm to reconstruct the queue.\n",
    "\n",
    "Note:\n",
    "The number of people is less than 1,100.\n",
    " \n",
    "\n",
    "Example\n",
    "\n",
    "Input:\n",
    "[[7,0], [4,4], [7,1], [5,0], [6,1], [5,2]]\n",
    "\n",
    "Output:\n",
    "[[5,0], [7,0], [5,2], [6,1], [4,4], [7,1]]\n"
   ]
  },
  {
   "cell_type": "code",
   "execution_count": null,
   "metadata": {},
   "outputs": [],
   "source": [
    "class Solution(object):\n",
    "    def reconstructQueue(self, people):\n",
    "        \"\"\"\n",
    "        :type people: List[List[int]]\n",
    "        :rtype: List[List[int]]\n",
    "        \"\"\"\n",
    "        people = sorted(people, key = lambda x: (-x[0], x[1]))\n",
    "        res = []\n",
    "        for p in people:\n",
    "            res.insert(p[1], p)\n",
    "        return res"
   ]
  },
  {
   "cell_type": "markdown",
   "metadata": {},
   "source": [
    "JUNE 7th   Coin Change 2\n",
    "\n",
    "You are given coins of different denominations and a total amount of money. Write a function to compute the number of combinations that make up that amount. You may assume that you have infinite number of each kind of coin.\n",
    "\n",
    " \n",
    "\n",
    "Example 1:\n",
    "\n",
    "Input: amount = 5, coins = [1, 2, 5]\n",
    "Output: 4\n",
    "Explanation: there are four ways to make up the amount:\n",
    "5=5\n",
    "5=2+2+1\n",
    "5=2+1+1+1\n",
    "5=1+1+1+1+1\n",
    "\n",
    "Example 2:\n",
    "\n",
    "Input: amount = 3, coins = [2]\n",
    "Output: 0\n",
    "Explanation: the amount of 3 cannot be made up just with coins of 2.\n",
    "\n",
    "Example 3:\n",
    "\n",
    "Input: amount = 10, coins = [10] \n",
    "Output: 1\n",
    "\n",
    " \n",
    "\n",
    "Note:\n",
    "\n",
    "You can assume that\n",
    "\n",
    "    0 <= amount <= 5000\n",
    "    1 <= coin <= 5000\n",
    "    the number of coins is less than 500\n",
    "    the answer is guaranteed to fit into signed 32-bit integer\n",
    "\n"
   ]
  },
  {
   "cell_type": "code",
   "execution_count": null,
   "metadata": {},
   "outputs": [],
   "source": [
    "class Solution:\n",
    "    def change(self, amount: int, coins: List[int]) -> int:\n",
    "\n",
    "        dp = [0] * (amount + 1)\n",
    "        dp[0] = 1\n",
    "        for i in coins:\n",
    "            for j in range(1, amount + 1):\n",
    "               if j >= i:\n",
    "                   dp[j] += dp[j - i]\n",
    "        return dp[amount]"
   ]
  },
  {
   "cell_type": "markdown",
   "metadata": {},
   "source": [
    "June 8th Power of Two\n",
    "\n",
    "Given an integer, write a function to determine if it is a power of two.\n",
    "\n",
    "Example 1:\n",
    "\n",
    "Input: 1\n",
    "Output: true \n",
    "Explanation: 20 = 1\n",
    "\n",
    "Example 2:\n",
    "\n",
    "Input: 16\n",
    "Output: true\n",
    "Explanation: 24 = 16\n",
    "\n",
    "Example 3:\n",
    "\n",
    "Input: 218\n",
    "Output: false\n",
    "\n"
   ]
  },
  {
   "cell_type": "code",
   "execution_count": null,
   "metadata": {},
   "outputs": [],
   "source": [
    "class Solution:\n",
    "    def isPowerOfTwo(self, n: int) -> bool:\n",
    "        i = 0\n",
    "        while pow(2,i) <= n:\n",
    "            if pow(2,i) == n:\n",
    "                print('found')\n",
    "                return True\n",
    "            i += 1\n",
    "        return False"
   ]
  }
 ],
 "metadata": {
  "kernelspec": {
   "display_name": "Python 3",
   "language": "python",
   "name": "python3"
  },
  "language_info": {
   "codemirror_mode": {
    "name": "ipython",
    "version": 3
   },
   "file_extension": ".py",
   "mimetype": "text/x-python",
   "name": "python",
   "nbconvert_exporter": "python",
   "pygments_lexer": "ipython3",
   "version": "3.6.9"
  }
 },
 "nbformat": 4,
 "nbformat_minor": 2
}
